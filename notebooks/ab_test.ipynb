{
 "cells": [
  {
   "cell_type": "markdown",
   "id": "91648273-f2ac-4143-a0ec-3784231bda67",
   "metadata": {},
   "source": [
    "# A/B testing in mobile games\n",
    "\n",
    "A/B testing, also known as split testing, is a widely used method in the gaming industry to optimize various aspects of computer games. The primary motivation is to make data-driven decisions that improve the overall player experience and maximize the game's success.\n",
    "\n",
    "The choice of metric depends on the specific objectives of the A/B test. Common metrics include player retention, daily active users (DAU), session length, churn rate, conversion rate, revenue per user (ARPU), pay-to-play ratio, user engagement, load times, bug reports, player feedback, level completion rate, and virality. These metrics help game developers assess player engagement, monetization effectiveness, performance, and overall user satisfaction."
   ]
  },
  {
   "cell_type": "markdown",
   "id": "4293ca9f-f641-429e-85bb-edfb43073098",
   "metadata": {},
   "source": [
    "# Scope\n",
    "All analysis will be conducted on data collected for the mobile puzzle game, Cookie Cats. In this classic \"connect three\" puzzle, players must strategically link tiles of identical colors to clear the board and advance through levels."
   ]
  },
  {
   "cell_type": "markdown",
   "id": "d95b66a5-911a-46a1-8389-82d83f8a3bb0",
   "metadata": {},
   "source": [
    "# Experimental design\n",
    "\n",
    "In the game, players face time-based barriers or can opt for in-app purchases. We're analyzing an A/B test that shifted the initial barrier from level 30 to level 40 in Cookie Cats, focusing on its impact on player retention and game rounds."
   ]
  },
  {
   "cell_type": "markdown",
   "id": "08007071-3204-46c5-8706-aa78bf267a99",
   "metadata": {},
   "source": [
    "## Hypothesis\n",
    "A two-way hypothesis test at a significance \"alpha\" level of 0.05 will be conducted.\n",
    "\n",
    "* **Null hypothesis**: Gate position has no impact on player retention/game rounds.\n",
    "\n",
    "* **Alternate hypothesis**: Gate position has an impact on player retention/game rounds."
   ]
  },
  {
   "cell_type": "markdown",
   "id": "e151e369-fb79-4b5a-afb9-d1139bf56952",
   "metadata": {},
   "source": [
    "## Test statistics\n",
    "\n",
    "The following metrics are available and will be evaluated:\n",
    "\n",
    "1. **sum_gamerounds**: the number of game rounds played by the player during the first 14 days after install.\n",
    "2. **retention_1**: did the player come back and play 1 day after installing?\n",
    "3. **retention 7**: did the player come back and play 7 days after installing?"
   ]
  },
  {
   "cell_type": "markdown",
   "id": "1e1dbd77-b068-4eec-80e0-1339d5b28373",
   "metadata": {},
   "source": [
    "# Data exploration"
   ]
  },
  {
   "cell_type": "markdown",
   "id": "8f0b4700-713a-407c-8f3a-902f5a58781a",
   "metadata": {},
   "source": [
    "## Dependencies"
   ]
  },
  {
   "cell_type": "code",
   "execution_count": 1,
   "id": "eb2d0513-8425-4608-9c1a-c1ef49dce8e2",
   "metadata": {},
   "outputs": [],
   "source": [
    "import sys\n",
    "CONFIG_DIRECTORY = 'C:\\\\Users\\\\billy\\\\OneDrive\\\\Documents\\\\Python Scripts\\\\1. Portfolio\\\\ab-testing-cookie-cats\\\\ab-testing-cookie-cats'\n",
    "if CONFIG_DIRECTORY not in sys.path:\n",
    "    sys.path.insert(0, CONFIG_DIRECTORY)\n",
    "    \n",
    "import config\n",
    "from IPython.display import display\n",
    "from matplotlib import pyplot as plt\n",
    "plt.style.use('seaborn-v0_8-muted')\n",
    "import numpy as np\n",
    "import pandas as pd\n",
    "from random import sample"
   ]
  },
  {
   "cell_type": "markdown",
   "id": "72a68a3c-ba16-4da1-bc99-2d45c877172e",
   "metadata": {},
   "source": [
    "## Import data\n",
    "* Data is imported as a DataFrame.\n",
    "* There are 90,1089 records."
   ]
  },
  {
   "cell_type": "code",
   "execution_count": 2,
   "id": "79094c54-02aa-410d-9c5d-f460e906ddb5",
   "metadata": {},
   "outputs": [
    {
     "name": "stdout",
     "output_type": "stream",
     "text": [
      "Number of records: 90189\n"
     ]
    },
    {
     "data": {
      "text/html": [
       "<div>\n",
       "<style scoped>\n",
       "    .dataframe tbody tr th:only-of-type {\n",
       "        vertical-align: middle;\n",
       "    }\n",
       "\n",
       "    .dataframe tbody tr th {\n",
       "        vertical-align: top;\n",
       "    }\n",
       "\n",
       "    .dataframe thead th {\n",
       "        text-align: right;\n",
       "    }\n",
       "</style>\n",
       "<table border=\"1\" class=\"dataframe\">\n",
       "  <thead>\n",
       "    <tr style=\"text-align: right;\">\n",
       "      <th></th>\n",
       "      <th>userid</th>\n",
       "      <th>version</th>\n",
       "      <th>sum_gamerounds</th>\n",
       "      <th>retention_1</th>\n",
       "      <th>retention_7</th>\n",
       "    </tr>\n",
       "  </thead>\n",
       "  <tbody>\n",
       "    <tr>\n",
       "      <th>0</th>\n",
       "      <td>116</td>\n",
       "      <td>gate_30</td>\n",
       "      <td>3</td>\n",
       "      <td>False</td>\n",
       "      <td>False</td>\n",
       "    </tr>\n",
       "    <tr>\n",
       "      <th>1</th>\n",
       "      <td>337</td>\n",
       "      <td>gate_30</td>\n",
       "      <td>38</td>\n",
       "      <td>True</td>\n",
       "      <td>False</td>\n",
       "    </tr>\n",
       "    <tr>\n",
       "      <th>2</th>\n",
       "      <td>377</td>\n",
       "      <td>gate_40</td>\n",
       "      <td>165</td>\n",
       "      <td>True</td>\n",
       "      <td>False</td>\n",
       "    </tr>\n",
       "  </tbody>\n",
       "</table>\n",
       "</div>"
      ],
      "text/plain": [
       "   userid  version  sum_gamerounds  retention_1  retention_7\n",
       "0     116  gate_30               3        False        False\n",
       "1     337  gate_30              38         True        False\n",
       "2     377  gate_40             165         True        False"
      ]
     },
     "execution_count": 2,
     "metadata": {},
     "output_type": "execute_result"
    }
   ],
   "source": [
    "ab_results = pd.read_csv(config.file_directory('raw') + 'cookie_cats.csv')\n",
    "print(f\"Number of records: {ab_results.shape[0]}\")\n",
    "ab_results.head(3)"
   ]
  },
  {
   "cell_type": "markdown",
   "id": "4dc67739-3390-4d35-a740-9aeda5c3a13d",
   "metadata": {},
   "source": [
    "## Data types\n",
    "* sum_gamerounds is a numerical variable and both retention metrics are boolean."
   ]
  },
  {
   "cell_type": "code",
   "execution_count": 3,
   "id": "ec2f3ad6-13aa-459d-9a3a-ec1b0ba81875",
   "metadata": {},
   "outputs": [
    {
     "data": {
      "text/plain": [
       "userid             int64\n",
       "version           object\n",
       "sum_gamerounds     int64\n",
       "retention_1         bool\n",
       "retention_7         bool\n",
       "dtype: object"
      ]
     },
     "execution_count": 3,
     "metadata": {},
     "output_type": "execute_result"
    }
   ],
   "source": [
    "ab_results.dtypes"
   ]
  },
  {
   "cell_type": "markdown",
   "id": "7439bec9-f6eb-477e-a9ca-6e625be4d796",
   "metadata": {},
   "source": [
    "## Missing values\n",
    "* No missing values (NaN or None) are present."
   ]
  },
  {
   "cell_type": "code",
   "execution_count": 4,
   "id": "83fe6bb5-5d62-46ec-bdc9-d640946c80dd",
   "metadata": {},
   "outputs": [
    {
     "data": {
      "text/plain": [
       "userid            0\n",
       "version           0\n",
       "sum_gamerounds    0\n",
       "retention_1       0\n",
       "retention_7       0\n",
       "dtype: int64"
      ]
     },
     "execution_count": 4,
     "metadata": {},
     "output_type": "execute_result"
    }
   ],
   "source": [
    "ab_results.isnull().sum()"
   ]
  },
  {
   "cell_type": "markdown",
   "id": "d5d7815e-3ac0-48fd-b816-e52bca3e6729",
   "metadata": {},
   "source": [
    "## A/B split\n",
    "\n",
    "When a player installed the game, they were randomly assigned to either gate_30 or gate_40. The split is captured by the *version* feature. The data is split roughly 50/50 across these two groups."
   ]
  },
  {
   "cell_type": "code",
   "execution_count": 5,
   "id": "8e869142-c9c4-46a7-b42b-4e9d5ab44bd0",
   "metadata": {},
   "outputs": [
    {
     "data": {
      "text/html": [
       "<div>\n",
       "<style scoped>\n",
       "    .dataframe tbody tr th:only-of-type {\n",
       "        vertical-align: middle;\n",
       "    }\n",
       "\n",
       "    .dataframe tbody tr th {\n",
       "        vertical-align: top;\n",
       "    }\n",
       "\n",
       "    .dataframe thead th {\n",
       "        text-align: right;\n",
       "    }\n",
       "</style>\n",
       "<table border=\"1\" class=\"dataframe\">\n",
       "  <thead>\n",
       "    <tr style=\"text-align: right;\">\n",
       "      <th></th>\n",
       "      <th>version</th>\n",
       "    </tr>\n",
       "  </thead>\n",
       "  <tbody>\n",
       "    <tr>\n",
       "      <th>count</th>\n",
       "      <td>90189</td>\n",
       "    </tr>\n",
       "    <tr>\n",
       "      <th>unique</th>\n",
       "      <td>2</td>\n",
       "    </tr>\n",
       "    <tr>\n",
       "      <th>top</th>\n",
       "      <td>gate_40</td>\n",
       "    </tr>\n",
       "    <tr>\n",
       "      <th>freq</th>\n",
       "      <td>45489</td>\n",
       "    </tr>\n",
       "  </tbody>\n",
       "</table>\n",
       "</div>"
      ],
      "text/plain": [
       "        version\n",
       "count     90189\n",
       "unique        2\n",
       "top     gate_40\n",
       "freq      45489"
      ]
     },
     "metadata": {},
     "output_type": "display_data"
    }
   ],
   "source": [
    "display(ab_results[['version']].describe())"
   ]
  },
  {
   "cell_type": "code",
   "execution_count": 6,
   "id": "a52d9f46-5e49-4ac2-acc0-2044d23a6d2c",
   "metadata": {},
   "outputs": [
    {
     "data": {
      "text/html": [
       "<div>\n",
       "<style scoped>\n",
       "    .dataframe tbody tr th:only-of-type {\n",
       "        vertical-align: middle;\n",
       "    }\n",
       "\n",
       "    .dataframe tbody tr th {\n",
       "        vertical-align: top;\n",
       "    }\n",
       "\n",
       "    .dataframe thead th {\n",
       "        text-align: right;\n",
       "    }\n",
       "</style>\n",
       "<table border=\"1\" class=\"dataframe\">\n",
       "  <thead>\n",
       "    <tr style=\"text-align: right;\">\n",
       "      <th></th>\n",
       "      <th>count</th>\n",
       "      <th>perc</th>\n",
       "    </tr>\n",
       "    <tr>\n",
       "      <th>version</th>\n",
       "      <th></th>\n",
       "      <th></th>\n",
       "    </tr>\n",
       "  </thead>\n",
       "  <tbody>\n",
       "    <tr>\n",
       "      <th>gate_40</th>\n",
       "      <td>45489</td>\n",
       "      <td>50.4</td>\n",
       "    </tr>\n",
       "    <tr>\n",
       "      <th>gate_30</th>\n",
       "      <td>44700</td>\n",
       "      <td>49.6</td>\n",
       "    </tr>\n",
       "  </tbody>\n",
       "</table>\n",
       "</div>"
      ],
      "text/plain": [
       "         count  perc\n",
       "version             \n",
       "gate_40  45489  50.4\n",
       "gate_30  44700  49.6"
      ]
     },
     "execution_count": 6,
     "metadata": {},
     "output_type": "execute_result"
    }
   ],
   "source": [
    "from custom_funcs import perc_func\n",
    "version_breakdown = perc_func(ab_results, 'version')\n",
    "version_breakdown"
   ]
  },
  {
   "cell_type": "code",
   "execution_count": 7,
   "id": "6fb6ebca-0c14-4b8e-9f9e-3ede0b066b31",
   "metadata": {},
   "outputs": [
    {
     "data": {
      "image/png": "[encoded data removed]",
      "text/plain": [
       "<Figure size 640x480 with 1 Axes>"
      ]
     },
     "metadata": {},
     "output_type": "display_data"
    }
   ],
   "source": [
    "fig, axes = plt.subplots()\n",
    "axes.scatter(version_breakdown.index,\n",
    "           version_breakdown['perc'],\n",
    "           marker='x',\n",
    "           s=400,\n",
    "           c='black',\n",
    "           linewidths=2)\n",
    "\n",
    "axes.set_xlim([-0.5, 1.5])\n",
    "axes.set_ylim([round(min(version_breakdown['perc']) - 10, -1),\n",
    "             round(max(version_breakdown['perc']) + 10, -1)])\n",
    "axes.tick_params(bottom=False, left=False)\n",
    "axes.set_xticks([0, 1], ['Gate 40', 'Gate 30'])\n",
    "axes.grid(True, axis='y', color='gainsboro')\n",
    "axes.spines[['top', 'right']].set_visible(False)\n",
    "axes.spines[['left', 'bottom']].set_color('dimgray')\n",
    "axes.set_ylabel('% of total', color='dimgray');\n",
    "fig.suptitle('A/B split', fontsize=10, color='dimgray');"
   ]
  },
  {
   "cell_type": "markdown",
   "id": "d706265e-4af7-4de6-9442-c2742b5e964a",
   "metadata": {},
   "source": [
    "## Summary stats & distributions"
   ]
  },
  {
   "cell_type": "markdown",
   "id": "a9c23f43-9519-48c1-a25c-64b0bb9199a7",
   "metadata": {},
   "source": [
    "### Number of games\n",
    "* The mean and median number of game rounds is 51.9 and 16, respectively. This indicates the distribution is heavily skewed."
   ]
  },
  {
   "cell_type": "code",
   "execution_count": 8,
   "id": "0ba34e82-e8d3-47ff-a456-58f166ae8d6b",
   "metadata": {},
   "outputs": [
    {
     "data": {
      "text/html": [
       "<div>\n",
       "<style scoped>\n",
       "    .dataframe tbody tr th:only-of-type {\n",
       "        vertical-align: middle;\n",
       "    }\n",
       "\n",
       "    .dataframe tbody tr th {\n",
       "        vertical-align: top;\n",
       "    }\n",
       "\n",
       "    .dataframe thead th {\n",
       "        text-align: right;\n",
       "    }\n",
       "</style>\n",
       "<table border=\"1\" class=\"dataframe\">\n",
       "  <thead>\n",
       "    <tr style=\"text-align: right;\">\n",
       "      <th></th>\n",
       "      <th>sum_gamerounds</th>\n",
       "    </tr>\n",
       "  </thead>\n",
       "  <tbody>\n",
       "    <tr>\n",
       "      <th>count</th>\n",
       "      <td>90189.000000</td>\n",
       "    </tr>\n",
       "    <tr>\n",
       "      <th>mean</th>\n",
       "      <td>51.872457</td>\n",
       "    </tr>\n",
       "    <tr>\n",
       "      <th>std</th>\n",
       "      <td>195.050858</td>\n",
       "    </tr>\n",
       "    <tr>\n",
       "      <th>min</th>\n",
       "      <td>0.000000</td>\n",
       "    </tr>\n",
       "    <tr>\n",
       "      <th>25%</th>\n",
       "      <td>5.000000</td>\n",
       "    </tr>\n",
       "    <tr>\n",
       "      <th>50%</th>\n",
       "      <td>16.000000</td>\n",
       "    </tr>\n",
       "    <tr>\n",
       "      <th>75%</th>\n",
       "      <td>51.000000</td>\n",
       "    </tr>\n",
       "    <tr>\n",
       "      <th>max</th>\n",
       "      <td>49854.000000</td>\n",
       "    </tr>\n",
       "  </tbody>\n",
       "</table>\n",
       "</div>"
      ],
      "text/plain": [
       "       sum_gamerounds\n",
       "count    90189.000000\n",
       "mean        51.872457\n",
       "std        195.050858\n",
       "min          0.000000\n",
       "25%          5.000000\n",
       "50%         16.000000\n",
       "75%         51.000000\n",
       "max      49854.000000"
      ]
     },
     "metadata": {},
     "output_type": "display_data"
    }
   ],
   "source": [
    "display(ab_results[['sum_gamerounds']].describe())"
   ]
  },
  {
   "cell_type": "markdown",
   "id": "72253d52-1d1c-4576-91d7-942e02f6bf9d",
   "metadata": {},
   "source": [
    "* Segmenting players by test group indicates a slight increase in the average number of games per player when the first barrier is at gate 30.\n",
    "* The difference between the mean and medians (irrespective of test group) indicate a skewed distribution."
   ]
  },
  {
   "cell_type": "code",
   "execution_count": 9,
   "id": "5ca59493-3d68-4a16-a939-d8d6ddec28b4",
   "metadata": {},
   "outputs": [
    {
     "data": {
      "text/html": [
       "<div>\n",
       "<style scoped>\n",
       "    .dataframe tbody tr th:only-of-type {\n",
       "        vertical-align: middle;\n",
       "    }\n",
       "\n",
       "    .dataframe tbody tr th {\n",
       "        vertical-align: top;\n",
       "    }\n",
       "\n",
       "    .dataframe thead th {\n",
       "        text-align: right;\n",
       "    }\n",
       "</style>\n",
       "<table border=\"1\" class=\"dataframe\">\n",
       "  <thead>\n",
       "    <tr style=\"text-align: right;\">\n",
       "      <th></th>\n",
       "      <th>gate_30</th>\n",
       "      <th>gate_40</th>\n",
       "      <th>diff</th>\n",
       "    </tr>\n",
       "  </thead>\n",
       "  <tbody>\n",
       "    <tr>\n",
       "      <th>count</th>\n",
       "      <td>44700.000000</td>\n",
       "      <td>45489.000000</td>\n",
       "      <td>-789.000000</td>\n",
       "    </tr>\n",
       "    <tr>\n",
       "      <th>mean</th>\n",
       "      <td>52.456264</td>\n",
       "      <td>51.298776</td>\n",
       "      <td>1.157488</td>\n",
       "    </tr>\n",
       "    <tr>\n",
       "      <th>std</th>\n",
       "      <td>256.716423</td>\n",
       "      <td>103.294416</td>\n",
       "      <td>153.422007</td>\n",
       "    </tr>\n",
       "    <tr>\n",
       "      <th>min</th>\n",
       "      <td>0.000000</td>\n",
       "      <td>0.000000</td>\n",
       "      <td>0.000000</td>\n",
       "    </tr>\n",
       "    <tr>\n",
       "      <th>25%</th>\n",
       "      <td>5.000000</td>\n",
       "      <td>5.000000</td>\n",
       "      <td>0.000000</td>\n",
       "    </tr>\n",
       "    <tr>\n",
       "      <th>50%</th>\n",
       "      <td>17.000000</td>\n",
       "      <td>16.000000</td>\n",
       "      <td>1.000000</td>\n",
       "    </tr>\n",
       "    <tr>\n",
       "      <th>75%</th>\n",
       "      <td>50.000000</td>\n",
       "      <td>52.000000</td>\n",
       "      <td>-2.000000</td>\n",
       "    </tr>\n",
       "    <tr>\n",
       "      <th>max</th>\n",
       "      <td>49854.000000</td>\n",
       "      <td>2640.000000</td>\n",
       "      <td>47214.000000</td>\n",
       "    </tr>\n",
       "  </tbody>\n",
       "</table>\n",
       "</div>"
      ],
      "text/plain": [
       "            gate_30       gate_40          diff\n",
       "count  44700.000000  45489.000000   -789.000000\n",
       "mean      52.456264     51.298776      1.157488\n",
       "std      256.716423    103.294416    153.422007\n",
       "min        0.000000      0.000000      0.000000\n",
       "25%        5.000000      5.000000      0.000000\n",
       "50%       17.000000     16.000000      1.000000\n",
       "75%       50.000000     52.000000     -2.000000\n",
       "max    49854.000000   2640.000000  47214.000000"
      ]
     },
     "execution_count": 9,
     "metadata": {},
     "output_type": "execute_result"
    }
   ],
   "source": [
    "gamerounds_ab = pd.concat([ab_results.loc[ab_results.version == v, 'sum_gamerounds'].describe() for v in ab_results['version'].unique()],\n",
    "                          axis=1,\n",
    "                          keys=[v for v in ab_results['version'].unique()])\n",
    "gamerounds_ab['diff'] = gamerounds_ab['gate_30'] - gamerounds_ab['gate_40']\n",
    "gamerounds_ab"
   ]
  },
  {
   "cell_type": "markdown",
   "id": "6d99e2e9-d92a-44c6-b30d-76da5c871a79",
   "metadata": {},
   "source": [
    "* Box plots confirm skewed distributions for both test groups.\n",
    "* The maximum point for gate 30 players looks like an anonomaly."
   ]
  },
  {
   "cell_type": "code",
   "execution_count": 10,
   "id": "454293bc-222b-4d56-8a3c-43969f0ecdfc",
   "metadata": {},
   "outputs": [
    {
     "data": {
      "image/png": "[encoded data removed]",
      "text/plain": [
       "<Figure size 640x480 with 1 Axes>"
      ]
     },
     "metadata": {},
     "output_type": "display_data"
    }
   ],
   "source": [
    "fig, axes = plt.subplots(nrows=1, ncols=1)\n",
    "ab_results.boxplot(by='version',\n",
    "                   column='sum_gamerounds',\n",
    "                   ax=axes,\n",
    "                   whis=[5, 95],\n",
    "                   showfliers=True,\n",
    "                   boxprops=dict(color='k'),\n",
    "                   whiskerprops=dict(color='k'),\n",
    "                   capprops=dict(color='k')\n",
    "                   )\n",
    "axes.set_xticks([1, 2], labels=['Gate 30', 'Gate 40'])\n",
    "axes.set_xlabel('')\n",
    "axes.set_title('')\n",
    "fig.suptitle('Number of game rounds', fontsize=10, color='dimgray')\n",
    "axes.tick_params(bottom=False, left=False)\n",
    "axes.grid(False)\n",
    "axes.grid(True, axis='y', which='major', color='gainsboro')\n",
    "axes.spines[['top', 'right']].set_visible(False)\n",
    "axes.spines[['left', 'bottom']].set_color('dimgray')"
   ]
  },
  {
   "cell_type": "markdown",
   "id": "fb05f3ad-4af6-4122-a84a-d7b7bb0fd653",
   "metadata": {},
   "source": [
    "* Histograms illustrate the broad spread for number of games per player across both test groups."
   ]
  },
  {
   "cell_type": "code",
   "execution_count": 11,
   "id": "7db39314-6c1a-414d-a771-d1075a23d5d4",
   "metadata": {},
   "outputs": [
    {
     "data": {
      "image/png": "[encoded data removed]",
      "text/plain": [
       "<Figure size 640x480 with 2 Axes>"
      ]
     },
     "metadata": {},
     "output_type": "display_data"
    }
   ],
   "source": [
    "bin_width = 5\n",
    "fig, axes = plt.subplots(nrows=1, ncols=2)\n",
    "fig.tight_layout(pad=3.0)\n",
    "\n",
    "for v, ax in zip(ab_results['version'].unique(), axes):\n",
    "    ax.hist(ab_results.loc[ab_results.version == v, 'sum_gamerounds'],\n",
    "            bins=range(0, ab_results.loc[ab_results.version == v, 'sum_gamerounds'].max() + bin_width, bin_width),\n",
    "            color = 'dimgray')\n",
    "    ax.set_yscale('log')\n",
    "    ax.set_xscale('log')\n",
    "    ax.grid(True, axis='y', color='gainsboro')\n",
    "    ax.spines[['top', 'right']].set_visible(False)\n",
    "    ax.spines[['left', 'bottom']].set_color('dimgray')\n",
    "    ax.set_title(v, fontsize=10)\n",
    "axes[0].set_ylabel('Count', color='dimgray');\n",
    "fig.suptitle('Number of game rounds', fontsize=10, color='dimgray');"
   ]
  },
  {
   "cell_type": "markdown",
   "id": "51825b78-6668-41a0-b184-956912a2f60e",
   "metadata": {},
   "source": [
    "### One day retention\n",
    "* One day retention rates are 0.59% higher for gate 30 players."
   ]
  },
  {
   "cell_type": "code",
   "execution_count": 12,
   "id": "d0f1c237-0f63-4103-9b09-84a2d3161c90",
   "metadata": {},
   "outputs": [
    {
     "data": {
      "text/html": [
       "<div>\n",
       "<style scoped>\n",
       "    .dataframe tbody tr th:only-of-type {\n",
       "        vertical-align: middle;\n",
       "    }\n",
       "\n",
       "    .dataframe tbody tr th {\n",
       "        vertical-align: top;\n",
       "    }\n",
       "\n",
       "    .dataframe thead th {\n",
       "        text-align: right;\n",
       "    }\n",
       "</style>\n",
       "<table border=\"1\" class=\"dataframe\">\n",
       "  <thead>\n",
       "    <tr style=\"text-align: right;\">\n",
       "      <th>version</th>\n",
       "      <th>gate_30</th>\n",
       "      <th>gate_40</th>\n",
       "      <th>diff</th>\n",
       "    </tr>\n",
       "    <tr>\n",
       "      <th>outcome</th>\n",
       "      <th></th>\n",
       "      <th></th>\n",
       "      <th></th>\n",
       "    </tr>\n",
       "  </thead>\n",
       "  <tbody>\n",
       "    <tr>\n",
       "      <th>False</th>\n",
       "      <td>55.18</td>\n",
       "      <td>55.77</td>\n",
       "      <td>-0.59</td>\n",
       "    </tr>\n",
       "    <tr>\n",
       "      <th>True</th>\n",
       "      <td>44.82</td>\n",
       "      <td>44.23</td>\n",
       "      <td>0.59</td>\n",
       "    </tr>\n",
       "  </tbody>\n",
       "</table>\n",
       "</div>"
      ],
      "text/plain": [
       "version  gate_30  gate_40  diff\n",
       "outcome                        \n",
       "False      55.18    55.77 -0.59\n",
       "True       44.82    44.23  0.59"
      ]
     },
     "execution_count": 12,
     "metadata": {},
     "output_type": "execute_result"
    }
   ],
   "source": [
    "from custom_funcs import retained_func\n",
    "retent1_ab = retained_func(ab_results, 'retention_1')\n",
    "retent1_ab"
   ]
  },
  {
   "cell_type": "code",
   "execution_count": 13,
   "id": "0231d26f-dea9-44ed-9eeb-cda6c2a4ccc4",
   "metadata": {},
   "outputs": [
    {
     "data": {
      "image/png": "[encoded data removed]",
      "text/plain": [
       "<Figure size 640x480 with 1 Axes>"
      ]
     },
     "metadata": {},
     "output_type": "display_data"
    }
   ],
   "source": [
    "fig, axes = plt.subplots()\n",
    "axes.scatter(retent1_ab.index,\n",
    "             retent1_ab.loc[True, ['gate_30', 'gate_40']],\n",
    "             marker='x',\n",
    "             s=400,\n",
    "             c='black',\n",
    "             linewidths=2)\n",
    "\n",
    "axes.set_xticks([0, 1], ['Gate 30', 'Gate 40'])\n",
    "axes.set_ylabel('% of total', color='dimgray')\n",
    "fig.suptitle('One day retention', fontsize=10, color='dimgray')\n",
    "axes.set_xlim([-0.5, 1.5])\n",
    "axes.set_ylim([40, 50])\n",
    "axes.tick_params(bottom=False, left=False)\n",
    "axes.grid(True, axis='y', color='gainsboro')\n",
    "axes.spines[['top', 'right']].set_visible(False)\n",
    "axes.spines[['left', 'bottom']].set_color('dimgray')"
   ]
  },
  {
   "cell_type": "markdown",
   "id": "b6b78de3-37dc-4220-b3f8-74190705d056",
   "metadata": {},
   "source": [
    "### Seven day retention\n",
    "* Seven day retention rates are 0.82% higher for gate 30 players."
   ]
  },
  {
   "cell_type": "code",
   "execution_count": 14,
   "id": "58a7a86e-d238-4df4-981a-eeb2a925cf4a",
   "metadata": {},
   "outputs": [
    {
     "data": {
      "text/html": [
       "<div>\n",
       "<style scoped>\n",
       "    .dataframe tbody tr th:only-of-type {\n",
       "        vertical-align: middle;\n",
       "    }\n",
       "\n",
       "    .dataframe tbody tr th {\n",
       "        vertical-align: top;\n",
       "    }\n",
       "\n",
       "    .dataframe thead th {\n",
       "        text-align: right;\n",
       "    }\n",
       "</style>\n",
       "<table border=\"1\" class=\"dataframe\">\n",
       "  <thead>\n",
       "    <tr style=\"text-align: right;\">\n",
       "      <th></th>\n",
       "      <th>retention_7</th>\n",
       "    </tr>\n",
       "  </thead>\n",
       "  <tbody>\n",
       "    <tr>\n",
       "      <th>count</th>\n",
       "      <td>90189</td>\n",
       "    </tr>\n",
       "    <tr>\n",
       "      <th>unique</th>\n",
       "      <td>2</td>\n",
       "    </tr>\n",
       "    <tr>\n",
       "      <th>top</th>\n",
       "      <td>False</td>\n",
       "    </tr>\n",
       "    <tr>\n",
       "      <th>freq</th>\n",
       "      <td>73408</td>\n",
       "    </tr>\n",
       "  </tbody>\n",
       "</table>\n",
       "</div>"
      ],
      "text/plain": [
       "       retention_7\n",
       "count        90189\n",
       "unique           2\n",
       "top          False\n",
       "freq         73408"
      ]
     },
     "metadata": {},
     "output_type": "display_data"
    }
   ],
   "source": [
    "display(ab_results[['retention_7']].describe())"
   ]
  },
  {
   "cell_type": "code",
   "execution_count": 15,
   "id": "aed93b10-d839-481d-a01c-fa685e779e20",
   "metadata": {},
   "outputs": [
    {
     "data": {
      "text/html": [
       "<div>\n",
       "<style scoped>\n",
       "    .dataframe tbody tr th:only-of-type {\n",
       "        vertical-align: middle;\n",
       "    }\n",
       "\n",
       "    .dataframe tbody tr th {\n",
       "        vertical-align: top;\n",
       "    }\n",
       "\n",
       "    .dataframe thead th {\n",
       "        text-align: right;\n",
       "    }\n",
       "</style>\n",
       "<table border=\"1\" class=\"dataframe\">\n",
       "  <thead>\n",
       "    <tr style=\"text-align: right;\">\n",
       "      <th>version</th>\n",
       "      <th>gate_30</th>\n",
       "      <th>gate_40</th>\n",
       "      <th>diff</th>\n",
       "    </tr>\n",
       "    <tr>\n",
       "      <th>outcome</th>\n",
       "      <th></th>\n",
       "      <th></th>\n",
       "      <th></th>\n",
       "    </tr>\n",
       "  </thead>\n",
       "  <tbody>\n",
       "    <tr>\n",
       "      <th>False</th>\n",
       "      <td>80.98</td>\n",
       "      <td>81.8</td>\n",
       "      <td>-0.82</td>\n",
       "    </tr>\n",
       "    <tr>\n",
       "      <th>True</th>\n",
       "      <td>19.02</td>\n",
       "      <td>18.2</td>\n",
       "      <td>0.82</td>\n",
       "    </tr>\n",
       "  </tbody>\n",
       "</table>\n",
       "</div>"
      ],
      "text/plain": [
       "version  gate_30  gate_40  diff\n",
       "outcome                        \n",
       "False      80.98     81.8 -0.82\n",
       "True       19.02     18.2  0.82"
      ]
     },
     "execution_count": 15,
     "metadata": {},
     "output_type": "execute_result"
    }
   ],
   "source": [
    "retent7_ab = retained_func(ab_results, 'retention_7')\n",
    "retent7_ab"
   ]
  },
  {
   "cell_type": "code",
   "execution_count": 16,
   "id": "c195cec0-e655-4329-b12c-55891cd24b34",
   "metadata": {},
   "outputs": [
    {
     "data": {
      "image/png": "[encoded data removed]",
      "text/plain": [
       "<Figure size 640x480 with 1 Axes>"
      ]
     },
     "metadata": {},
     "output_type": "display_data"
    }
   ],
   "source": [
    "fig, axes = plt.subplots()\n",
    "axes.scatter(retent7_ab.index,\n",
    "             retent7_ab.loc[True, ['gate_30', 'gate_40']],\n",
    "             marker='x',\n",
    "             s=400,\n",
    "             c='black',\n",
    "             linewidths=2)\n",
    "\n",
    "axes.set_xticks([0, 1], ['Gate 30', 'Gate 40'])\n",
    "axes.set_ylabel('% of total', color='dimgray')\n",
    "fig.suptitle('Seven day retention', fontsize=10, color='dimgray')\n",
    "axes.set_xlim([-0.5, 1.5])\n",
    "axes.set_ylim([15, 20])\n",
    "axes.tick_params(bottom=False, left=False)\n",
    "axes.grid(True, axis='y', color='gainsboro')\n",
    "axes.spines[['top', 'right']].set_visible(False)\n",
    "axes.spines[['left', 'bottom']].set_color('dimgray')"
   ]
  },
  {
   "cell_type": "markdown",
   "id": "0735e139-0920-4215-959a-c14bc2f80e1a",
   "metadata": {},
   "source": [
    "## Data cleaning\n",
    "* One anomalous point is removed: 49,854 plays is unrealistic in a 14 day period."
   ]
  },
  {
   "cell_type": "code",
   "execution_count": 17,
   "id": "fb0b8e2d-48fc-43a1-ab7e-dfde1e158829",
   "metadata": {},
   "outputs": [
    {
     "name": "stdout",
     "output_type": "stream",
     "text": [
      "Maximum number of game rounds: 49854\n"
     ]
    }
   ],
   "source": [
    "print(f\"Maximum number of game rounds: {ab_results['sum_gamerounds'].max()}\")"
   ]
  },
  {
   "cell_type": "code",
   "execution_count": 18,
   "id": "6e50a0c6-6d68-4ace-aaa9-4f7f84b18fd6",
   "metadata": {},
   "outputs": [],
   "source": [
    "ab_clean_res = ab_results.copy(deep=True)\n",
    "ab_clean_res = ab_results.loc[ab_clean_res['sum_gamerounds'] != ab_clean_res['sum_gamerounds'].max()]\n",
    "ab_clean_res = ab_clean_res.reset_index(drop=True)"
   ]
  },
  {
   "cell_type": "markdown",
   "id": "07283984-d3a8-4361-bf98-83b64a9cf116",
   "metadata": {},
   "source": [
    "## Permutation test\n",
    "\n",
    "**How it works:**\n",
    "\n",
    "1) The null hypothesis is assumed to be true\n",
    "2) The sampling distribution of the test statistic is computed using a permutation test. This indicates the random variability in the test statistic\n",
    "4) A p-value is calculated for the test statistic using the sampling distribution\n",
    "5) A significance test is conducted. The p-value is compared to a significance threshold. If it is below the threshold, the null hypothesis is rejected (and vice versa).\n",
    "   * For a single-tailed test, compare the p-value to the *alpha* significance level\n",
    "   * For a two-tailed test, compare the p-value to half the *alpha* significance level\n",
    "  \n",
    "**P-Values:**\n",
    "\n",
    "* The p-value represents the probability, given a chance model that embodies the null hypothesis, of a result *at least* as extreme as the observed effect. It therefore indicates whether the observed effect is a reasonable outcome of a \"null\" model.\n",
    "\n",
    "**Note:** A p-value does NOT give the probability the alternate hypothesis is true. A p-value gives you the probability the observed result could be produced by a null model."
   ]
  },
  {
   "cell_type": "markdown",
   "id": "31bf43ec-f7b4-43f2-a3c5-10c54df2ce05",
   "metadata": {},
   "source": [
    "### Number of games\n",
    "* The mean number of games per player is 0.04 higher when the first barrier is at gate 30.\n",
    "\n",
    "Note: There is a slight difference in the mean value for gate_30 players due to the removal of an outlier."
   ]
  },
  {
   "cell_type": "code",
   "execution_count": 19,
   "id": "986fcb74-3d8c-4798-af22-eb6f01f1a596",
   "metadata": {},
   "outputs": [
    {
     "data": {
      "text/html": [
       "<div>\n",
       "<style scoped>\n",
       "    .dataframe tbody tr th:only-of-type {\n",
       "        vertical-align: middle;\n",
       "    }\n",
       "\n",
       "    .dataframe tbody tr th {\n",
       "        vertical-align: top;\n",
       "    }\n",
       "\n",
       "    .dataframe thead th {\n",
       "        text-align: right;\n",
       "    }\n",
       "</style>\n",
       "<table border=\"1\" class=\"dataframe\">\n",
       "  <thead>\n",
       "    <tr style=\"text-align: right;\">\n",
       "      <th></th>\n",
       "      <th>gate_30</th>\n",
       "      <th>gate_40</th>\n",
       "      <th>diff</th>\n",
       "    </tr>\n",
       "  </thead>\n",
       "  <tbody>\n",
       "    <tr>\n",
       "      <th>count</th>\n",
       "      <td>44699.000000</td>\n",
       "      <td>45489.000000</td>\n",
       "      <td>-790.000000</td>\n",
       "    </tr>\n",
       "    <tr>\n",
       "      <th>mean</th>\n",
       "      <td>51.342111</td>\n",
       "      <td>51.298776</td>\n",
       "      <td>0.043335</td>\n",
       "    </tr>\n",
       "    <tr>\n",
       "      <th>std</th>\n",
       "      <td>102.057598</td>\n",
       "      <td>103.294416</td>\n",
       "      <td>-1.236818</td>\n",
       "    </tr>\n",
       "    <tr>\n",
       "      <th>min</th>\n",
       "      <td>0.000000</td>\n",
       "      <td>0.000000</td>\n",
       "      <td>0.000000</td>\n",
       "    </tr>\n",
       "    <tr>\n",
       "      <th>25%</th>\n",
       "      <td>5.000000</td>\n",
       "      <td>5.000000</td>\n",
       "      <td>0.000000</td>\n",
       "    </tr>\n",
       "    <tr>\n",
       "      <th>50%</th>\n",
       "      <td>17.000000</td>\n",
       "      <td>16.000000</td>\n",
       "      <td>1.000000</td>\n",
       "    </tr>\n",
       "    <tr>\n",
       "      <th>75%</th>\n",
       "      <td>50.000000</td>\n",
       "      <td>52.000000</td>\n",
       "      <td>-2.000000</td>\n",
       "    </tr>\n",
       "    <tr>\n",
       "      <th>max</th>\n",
       "      <td>2961.000000</td>\n",
       "      <td>2640.000000</td>\n",
       "      <td>321.000000</td>\n",
       "    </tr>\n",
       "  </tbody>\n",
       "</table>\n",
       "</div>"
      ],
      "text/plain": [
       "            gate_30       gate_40        diff\n",
       "count  44699.000000  45489.000000 -790.000000\n",
       "mean      51.342111     51.298776    0.043335\n",
       "std      102.057598    103.294416   -1.236818\n",
       "min        0.000000      0.000000    0.000000\n",
       "25%        5.000000      5.000000    0.000000\n",
       "50%       17.000000     16.000000    1.000000\n",
       "75%       50.000000     52.000000   -2.000000\n",
       "max     2961.000000   2640.000000  321.000000"
      ]
     },
     "execution_count": 19,
     "metadata": {},
     "output_type": "execute_result"
    }
   ],
   "source": [
    "ngames_clean_ab = pd.concat([ab_clean_res.loc[ab_clean_res.version == v, 'sum_gamerounds'].describe() for v in ab_clean_res['version'].unique()],\n",
    "                          axis=1,\n",
    "                          keys=[v for v in ab_clean_res['version'].unique()])\n",
    "ngames_clean_ab['diff'] = ngames_clean_ab['gate_30'] - ngames_clean_ab['gate_40']\n",
    "ngames_clean_ab"
   ]
  },
  {
   "cell_type": "markdown",
   "id": "41d9392d-f86e-4606-8f5e-a6bc87a1dd63",
   "metadata": {},
   "source": [
    "* The observed difference lies close to the mean of the sampling distribution for a null model.\n",
    "* Given the p-value is nearly 0.5, the null-hypothesis cannot be rejected."
   ]
  },
  {
   "cell_type": "code",
   "execution_count": 20,
   "id": "f652d053-7035-4369-bced-f3f12096ba57",
   "metadata": {},
   "outputs": [
    {
     "name": "stdout",
     "output_type": "stream",
     "text": [
      "p-Value: 0.466\n"
     ]
    },
    {
     "data": {
      "image/png": "[encoded data removed]",
      "text/plain": [
       "<Figure size 640x480 with 1 Axes>"
      ]
     },
     "metadata": {},
     "output_type": "display_data"
    }
   ],
   "source": [
    "from custom_funcs import perm_func\n",
    "ngames_perm_diffs = [perm_func(ab_clean_res['sum_gamerounds'], 44699, 45489) for _ in range(1000)]\n",
    "\n",
    "fig, axes = plt.subplots()\n",
    "axes.hist(ngames_perm_diffs, bins=20, color = 'dimgray', ec=\"white\", lw=1)\n",
    "axes.axvline(x=ngames_clean_ab.loc['mean', 'diff'], linestyle='--', color='red', lw=2, label='Observed\\ndifference')\n",
    "axes.set_xlabel('Difference in mean', color='dimgray')\n",
    "axes.set_ylabel('Count', color='dimgray')\n",
    "axes.set_title('Sum game rounds', fontsize=10, color='dimgray')\n",
    "axes.spines[['top', 'right']].set_visible(False)\n",
    "axes.spines[['left', 'bottom']].set_color('dimgray')\n",
    "axes.legend();\n",
    "plt.savefig('./figures/ngames_sampling_distribution.png')\n",
    "\n",
    "p_val = np.mean([diff > ngames_clean_ab.loc['mean', 'diff'] for diff in ngames_perm_diffs])\n",
    "print(f'p-Value: {p_val}')"
   ]
  },
  {
   "cell_type": "markdown",
   "id": "6b56e04b-496e-4238-9766-a57f14b124ff",
   "metadata": {},
   "source": [
    "### One day retention\n",
    "* One day retention rates are 0.59% higher for gate 30 players."
   ]
  },
  {
   "cell_type": "code",
   "execution_count": 21,
   "id": "4a7d3ae7-4770-40fc-bed4-02093695a003",
   "metadata": {},
   "outputs": [
    {
     "data": {
      "text/html": [
       "<div>\n",
       "<style scoped>\n",
       "    .dataframe tbody tr th:only-of-type {\n",
       "        vertical-align: middle;\n",
       "    }\n",
       "\n",
       "    .dataframe tbody tr th {\n",
       "        vertical-align: top;\n",
       "    }\n",
       "\n",
       "    .dataframe thead th {\n",
       "        text-align: right;\n",
       "    }\n",
       "</style>\n",
       "<table border=\"1\" class=\"dataframe\">\n",
       "  <thead>\n",
       "    <tr style=\"text-align: right;\">\n",
       "      <th>version</th>\n",
       "      <th>gate_30</th>\n",
       "      <th>gate_40</th>\n",
       "      <th>diff</th>\n",
       "    </tr>\n",
       "    <tr>\n",
       "      <th>outcome</th>\n",
       "      <th></th>\n",
       "      <th></th>\n",
       "      <th></th>\n",
       "    </tr>\n",
       "  </thead>\n",
       "  <tbody>\n",
       "    <tr>\n",
       "      <th>False</th>\n",
       "      <td>55.18</td>\n",
       "      <td>55.77</td>\n",
       "      <td>-0.59</td>\n",
       "    </tr>\n",
       "    <tr>\n",
       "      <th>True</th>\n",
       "      <td>44.82</td>\n",
       "      <td>44.23</td>\n",
       "      <td>0.59</td>\n",
       "    </tr>\n",
       "  </tbody>\n",
       "</table>\n",
       "</div>"
      ],
      "text/plain": [
       "version  gate_30  gate_40  diff\n",
       "outcome                        \n",
       "False      55.18    55.77 -0.59\n",
       "True       44.82    44.23  0.59"
      ]
     },
     "execution_count": 21,
     "metadata": {},
     "output_type": "execute_result"
    }
   ],
   "source": [
    "retent1_clean_ab = retained_func(ab_clean_res, 'retention_1')\n",
    "retent1_clean_ab"
   ]
  },
  {
   "cell_type": "markdown",
   "id": "e8c706c4-0e6f-4d04-ada6-819830774589",
   "metadata": {},
   "source": [
    "* The observed difference lies above the mean of the sampling distribution for a null model.\n",
    "* The p-value of 0.027 means the null-hypothesis cannot be rejected (as this is a two-tailed test with a significance level of 0.05)."
   ]
  },
  {
   "cell_type": "code",
   "execution_count": 22,
   "id": "c095104b-1a5d-482d-bb5a-9b000ee5f5b4",
   "metadata": {},
   "outputs": [
    {
     "name": "stdout",
     "output_type": "stream",
     "text": [
      "p-Value: 0.036\n"
     ]
    },
    {
     "data": {
      "image/png": "[encoded data removed]",
      "text/plain": [
       "<Figure size 640x480 with 1 Axes>"
      ]
     },
     "metadata": {},
     "output_type": "display_data"
    }
   ],
   "source": [
    "retent1_perm_diffs = [100 * perm_func(ab_clean_res['retention_1'], 44699, 45489) for _ in range(1000)]\n",
    "\n",
    "fig, axes = plt.subplots()\n",
    "axes.hist(retent1_perm_diffs, bins=20, color = \"dimgray\", ec=\"white\", lw=1)\n",
    "axes.axvline(x=retent1_clean_ab.loc[True, 'diff'], linestyle='--', color='red', lw=2, label='Observed\\ndifference')\n",
    "axes.set_xlabel('Difference in rate', color='dimgray')\n",
    "axes.set_ylabel('Count', color='dimgray')\n",
    "axes.set_title('One day retention', fontsize=10, color='dimgray')\n",
    "axes.spines[['top', 'right']].set_visible(False);\n",
    "axes.spines[['left', 'bottom']].set_color('dimgray')\n",
    "axes.legend();\n",
    "plt.savefig('./figures/1retention_sampling_distribution.png')\n",
    "\n",
    "p_val = np.mean([diff > retent1_clean_ab.loc[True, 'diff'] for diff in retent1_perm_diffs])\n",
    "print(f'p-Value: {p_val}')"
   ]
  },
  {
   "cell_type": "markdown",
   "id": "860d373c-11e8-447e-af25-ba20948bfd1b",
   "metadata": {},
   "source": [
    "### Seven day retention\n",
    "* Seven day retention rates are 0.82% higher for gate 30 players."
   ]
  },
  {
   "cell_type": "code",
   "execution_count": 23,
   "id": "dd23ec1b-1633-471a-bb0b-f128ebfa3e8f",
   "metadata": {},
   "outputs": [
    {
     "data": {
      "text/html": [
       "<div>\n",
       "<style scoped>\n",
       "    .dataframe tbody tr th:only-of-type {\n",
       "        vertical-align: middle;\n",
       "    }\n",
       "\n",
       "    .dataframe tbody tr th {\n",
       "        vertical-align: top;\n",
       "    }\n",
       "\n",
       "    .dataframe thead th {\n",
       "        text-align: right;\n",
       "    }\n",
       "</style>\n",
       "<table border=\"1\" class=\"dataframe\">\n",
       "  <thead>\n",
       "    <tr style=\"text-align: right;\">\n",
       "      <th>version</th>\n",
       "      <th>gate_30</th>\n",
       "      <th>gate_40</th>\n",
       "      <th>diff</th>\n",
       "    </tr>\n",
       "    <tr>\n",
       "      <th>outcome</th>\n",
       "      <th></th>\n",
       "      <th></th>\n",
       "      <th></th>\n",
       "    </tr>\n",
       "  </thead>\n",
       "  <tbody>\n",
       "    <tr>\n",
       "      <th>False</th>\n",
       "      <td>80.98</td>\n",
       "      <td>81.8</td>\n",
       "      <td>-0.82</td>\n",
       "    </tr>\n",
       "    <tr>\n",
       "      <th>True</th>\n",
       "      <td>19.02</td>\n",
       "      <td>18.2</td>\n",
       "      <td>0.82</td>\n",
       "    </tr>\n",
       "  </tbody>\n",
       "</table>\n",
       "</div>"
      ],
      "text/plain": [
       "version  gate_30  gate_40  diff\n",
       "outcome                        \n",
       "False      80.98     81.8 -0.82\n",
       "True       19.02     18.2  0.82"
      ]
     },
     "execution_count": 23,
     "metadata": {},
     "output_type": "execute_result"
    }
   ],
   "source": [
    "retent7_clean_ab = retained_func(ab_clean_res, 'retention_7')\n",
    "retent7_clean_ab"
   ]
  },
  {
   "cell_type": "markdown",
   "id": "d38a0343-5c33-4fc3-91c1-41610691ccb8",
   "metadata": {},
   "source": [
    "* The observed difference lies above the mean of the sampling distribution for a null model.\n",
    "* The p-value of 0.002 means the null-hypothesis can be rejected."
   ]
  },
  {
   "cell_type": "code",
   "execution_count": 24,
   "id": "ebe5bf3d-6678-41f7-b9bd-b658d704cd35",
   "metadata": {},
   "outputs": [
    {
     "name": "stdout",
     "output_type": "stream",
     "text": [
      "p-Value: 0.0\n"
     ]
    },
    {
     "data": {
      "image/png": "[encoded data removed]",
      "text/plain": [
       "<Figure size 640x480 with 1 Axes>"
      ]
     },
     "metadata": {},
     "output_type": "display_data"
    }
   ],
   "source": [
    "retent7_perm_diffs = [100 * perm_func(ab_clean_res['retention_7'], 44699, 45489) for _ in range(1000)]\n",
    "\n",
    "fig, axes = plt.subplots()\n",
    "axes.hist(retent7_perm_diffs, bins=20, color = \"dimgray\", ec=\"white\", lw=1)\n",
    "axes.axvline(x=retent7_clean_ab.loc[True, 'diff'], linestyle='--', color='red', lw=2, label='Observed\\ndifference')\n",
    "axes.set_xlabel('Difference in retention rate', color='dimgray')\n",
    "axes.set_ylabel('Count', color='dimgray')\n",
    "axes.set_title('Seven day retention', fontsize=10, color='dimgray')\n",
    "axes.spines[['top', 'right']].set_visible(False)\n",
    "axes.spines[['left', 'bottom']].set_color('dimgray')\n",
    "axes.legend();\n",
    "plt.savefig('./figures/7retention_sampling_distribution.png')\n",
    "\n",
    "p_val = np.mean([diff > retent7_clean_ab.loc[True, 'diff'] for diff in retent7_perm_diffs])\n",
    "print(f'p-Value: {p_val}')"
   ]
  },
  {
   "cell_type": "markdown",
   "id": "09a8e9a2-325d-4dd8-9297-2f79811aebf8",
   "metadata": {},
   "source": [
    "## Conclusion\n",
    "Neither the number of game rounds or the one day retention rate is significantly different between the two test groups. However, the seven day retention rate is significantly higher when the first barrier is set to gate 30. I would therefore reccomend the gate remains in this position."
   ]
  }
 ],
 "metadata": {
  "kernelspec": {
   "display_name": "ab_testing",
   "language": "python",
   "name": "ab_testing"
  },
  "language_info": {
   "codemirror_mode": {
    "name": "ipython",
    "version": 3
   },
   "file_extension": ".py",
   "mimetype": "text/x-python",
   "name": "python",
   "nbconvert_exporter": "python",
   "pygments_lexer": "ipython3",
   "version": "3.11.5"
  }
 },
 "nbformat": 4,
 "nbformat_minor": 5
}
