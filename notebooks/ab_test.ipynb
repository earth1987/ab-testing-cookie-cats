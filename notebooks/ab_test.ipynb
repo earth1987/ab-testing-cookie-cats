{
 "cells": [
  {
   "cell_type": "markdown",
   "id": "91648273-f2ac-4143-a0ec-3784231bda67",
   "metadata": {},
   "source": [
    "# AB testing in mobile games"
   ]
  },
  {
   "cell_type": "markdown",
   "id": "4293ca9f-f641-429e-85bb-edfb43073098",
   "metadata": {},
   "source": [
    "## Scope"
   ]
  },
  {
   "cell_type": "markdown",
   "id": "7da2dc20-2251-4ac8-bb7d-6d85b5cc3348",
   "metadata": {},
   "source": [
    "## Performance metrics"
   ]
  },
  {
   "cell_type": "markdown",
   "id": "8f0b4700-713a-407c-8f3a-902f5a58781a",
   "metadata": {},
   "source": [
    "## Dependencies"
   ]
  },
  {
   "cell_type": "code",
   "execution_count": 1,
   "id": "eb2d0513-8425-4608-9c1a-c1ef49dce8e2",
   "metadata": {},
   "outputs": [],
   "source": [
    "import sys\n",
    "CONFIG_DIRECTORY = 'C:\\\\Users\\\\billy\\\\OneDrive\\\\Documents\\\\Python Scripts\\\\1. Portfolio\\\\ab-testing-cookie-cats\\\\ab-testing-cookie-cats'\n",
    "if CONFIG_DIRECTORY not in sys.path:\n",
    "    sys.path.insert(0, CONFIG_DIRECTORY)\n",
    "\n",
    "from custom_funcs import summarise_data\n",
    "import config\n",
    "from IPython.display import display\n",
    "from matplotlib import pyplot as plt\n",
    "plt.style.use('seaborn-v0_8-muted')\n",
    "import numpy as np\n",
    "import pandas as pd\n",
    "from random import sample"
   ]
  },
  {
   "cell_type": "markdown",
   "id": "72a68a3c-ba16-4da1-bc99-2d45c877172e",
   "metadata": {},
   "source": [
    "## Import data"
   ]
  },
  {
   "cell_type": "code",
   "execution_count": 2,
   "id": "79094c54-02aa-410d-9c5d-f460e906ddb5",
   "metadata": {},
   "outputs": [
    {
     "data": {
      "text/html": [
       "<div>\n",
       "<style scoped>\n",
       "    .dataframe tbody tr th:only-of-type {\n",
       "        vertical-align: middle;\n",
       "    }\n",
       "\n",
       "    .dataframe tbody tr th {\n",
       "        vertical-align: top;\n",
       "    }\n",
       "\n",
       "    .dataframe thead th {\n",
       "        text-align: right;\n",
       "    }\n",
       "</style>\n",
       "<table border=\"1\" class=\"dataframe\">\n",
       "  <thead>\n",
       "    <tr style=\"text-align: right;\">\n",
       "      <th></th>\n",
       "      <th>userid</th>\n",
       "      <th>version</th>\n",
       "      <th>sum_gamerounds</th>\n",
       "      <th>retention_1</th>\n",
       "      <th>retention_7</th>\n",
       "    </tr>\n",
       "  </thead>\n",
       "  <tbody>\n",
       "    <tr>\n",
       "      <th>0</th>\n",
       "      <td>116</td>\n",
       "      <td>gate_30</td>\n",
       "      <td>3</td>\n",
       "      <td>False</td>\n",
       "      <td>False</td>\n",
       "    </tr>\n",
       "    <tr>\n",
       "      <th>1</th>\n",
       "      <td>337</td>\n",
       "      <td>gate_30</td>\n",
       "      <td>38</td>\n",
       "      <td>True</td>\n",
       "      <td>False</td>\n",
       "    </tr>\n",
       "    <tr>\n",
       "      <th>2</th>\n",
       "      <td>377</td>\n",
       "      <td>gate_40</td>\n",
       "      <td>165</td>\n",
       "      <td>True</td>\n",
       "      <td>False</td>\n",
       "    </tr>\n",
       "  </tbody>\n",
       "</table>\n",
       "</div>"
      ],
      "text/plain": [
       "   userid  version  sum_gamerounds  retention_1  retention_7\n",
       "0     116  gate_30               3        False        False\n",
       "1     337  gate_30              38         True        False\n",
       "2     377  gate_40             165         True        False"
      ]
     },
     "execution_count": 2,
     "metadata": {},
     "output_type": "execute_result"
    }
   ],
   "source": [
    "ab_results = pd.read_csv(config.file_directory('raw') + 'cookie_cats.csv')\n",
    "ab_results.head(3)"
   ]
  },
  {
   "cell_type": "markdown",
   "id": "d415e349-e35b-4d0f-8575-66feb2ebb698",
   "metadata": {},
   "source": [
    "## Data exploration"
   ]
  },
  {
   "cell_type": "markdown",
   "id": "4dc67739-3390-4d35-a740-9aeda5c3a13d",
   "metadata": {},
   "source": [
    "### Data types"
   ]
  },
  {
   "cell_type": "code",
   "execution_count": 3,
   "id": "ec2f3ad6-13aa-459d-9a3a-ec1b0ba81875",
   "metadata": {},
   "outputs": [
    {
     "data": {
      "text/plain": [
       "userid             int64\n",
       "version           object\n",
       "sum_gamerounds     int64\n",
       "retention_1         bool\n",
       "retention_7         bool\n",
       "dtype: object"
      ]
     },
     "execution_count": 3,
     "metadata": {},
     "output_type": "execute_result"
    }
   ],
   "source": [
    "ab_results.dtypes"
   ]
  },
  {
   "cell_type": "markdown",
   "id": "7439bec9-f6eb-477e-a9ca-6e625be4d796",
   "metadata": {},
   "source": [
    "### Missing values"
   ]
  },
  {
   "cell_type": "code",
   "execution_count": 4,
   "id": "83fe6bb5-5d62-46ec-bdc9-d640946c80dd",
   "metadata": {},
   "outputs": [
    {
     "data": {
      "text/plain": [
       "userid            0\n",
       "version           0\n",
       "sum_gamerounds    0\n",
       "retention_1       0\n",
       "retention_7       0\n",
       "dtype: int64"
      ]
     },
     "execution_count": 4,
     "metadata": {},
     "output_type": "execute_result"
    }
   ],
   "source": [
    "ab_results.isnull().sum()"
   ]
  },
  {
   "cell_type": "markdown",
   "id": "2b6283d4-7182-4253-91f0-46967126e67b",
   "metadata": {},
   "source": [
    "### Summary statistics"
   ]
  },
  {
   "cell_type": "code",
   "execution_count": 5,
   "id": "2a7905e6-bb5b-4eac-b430-80a9955f31bf",
   "metadata": {},
   "outputs": [
    {
     "data": {
      "text/html": [
       "<div>\n",
       "<style scoped>\n",
       "    .dataframe tbody tr th:only-of-type {\n",
       "        vertical-align: middle;\n",
       "    }\n",
       "\n",
       "    .dataframe tbody tr th {\n",
       "        vertical-align: top;\n",
       "    }\n",
       "\n",
       "    .dataframe thead th {\n",
       "        text-align: right;\n",
       "    }\n",
       "</style>\n",
       "<table border=\"1\" class=\"dataframe\">\n",
       "  <thead>\n",
       "    <tr style=\"text-align: right;\">\n",
       "      <th></th>\n",
       "      <th>sum_gamerounds</th>\n",
       "    </tr>\n",
       "  </thead>\n",
       "  <tbody>\n",
       "    <tr>\n",
       "      <th>count</th>\n",
       "      <td>90189.000000</td>\n",
       "    </tr>\n",
       "    <tr>\n",
       "      <th>mean</th>\n",
       "      <td>51.872457</td>\n",
       "    </tr>\n",
       "    <tr>\n",
       "      <th>std</th>\n",
       "      <td>195.050858</td>\n",
       "    </tr>\n",
       "    <tr>\n",
       "      <th>min</th>\n",
       "      <td>0.000000</td>\n",
       "    </tr>\n",
       "    <tr>\n",
       "      <th>25%</th>\n",
       "      <td>5.000000</td>\n",
       "    </tr>\n",
       "    <tr>\n",
       "      <th>50%</th>\n",
       "      <td>16.000000</td>\n",
       "    </tr>\n",
       "    <tr>\n",
       "      <th>75%</th>\n",
       "      <td>51.000000</td>\n",
       "    </tr>\n",
       "    <tr>\n",
       "      <th>max</th>\n",
       "      <td>49854.000000</td>\n",
       "    </tr>\n",
       "  </tbody>\n",
       "</table>\n",
       "</div>"
      ],
      "text/plain": [
       "       sum_gamerounds\n",
       "count    90189.000000\n",
       "mean        51.872457\n",
       "std        195.050858\n",
       "min          0.000000\n",
       "25%          5.000000\n",
       "50%         16.000000\n",
       "75%         51.000000\n",
       "max      49854.000000"
      ]
     },
     "metadata": {},
     "output_type": "display_data"
    },
    {
     "data": {
      "text/html": [
       "<div>\n",
       "<style scoped>\n",
       "    .dataframe tbody tr th:only-of-type {\n",
       "        vertical-align: middle;\n",
       "    }\n",
       "\n",
       "    .dataframe tbody tr th {\n",
       "        vertical-align: top;\n",
       "    }\n",
       "\n",
       "    .dataframe thead th {\n",
       "        text-align: right;\n",
       "    }\n",
       "</style>\n",
       "<table border=\"1\" class=\"dataframe\">\n",
       "  <thead>\n",
       "    <tr style=\"text-align: right;\">\n",
       "      <th></th>\n",
       "      <th>version</th>\n",
       "      <th>retention_1</th>\n",
       "      <th>retention_7</th>\n",
       "    </tr>\n",
       "  </thead>\n",
       "  <tbody>\n",
       "    <tr>\n",
       "      <th>count</th>\n",
       "      <td>90189</td>\n",
       "      <td>90189</td>\n",
       "      <td>90189</td>\n",
       "    </tr>\n",
       "    <tr>\n",
       "      <th>unique</th>\n",
       "      <td>2</td>\n",
       "      <td>2</td>\n",
       "      <td>2</td>\n",
       "    </tr>\n",
       "    <tr>\n",
       "      <th>top</th>\n",
       "      <td>gate_40</td>\n",
       "      <td>False</td>\n",
       "      <td>False</td>\n",
       "    </tr>\n",
       "    <tr>\n",
       "      <th>freq</th>\n",
       "      <td>45489</td>\n",
       "      <td>50036</td>\n",
       "      <td>73408</td>\n",
       "    </tr>\n",
       "  </tbody>\n",
       "</table>\n",
       "</div>"
      ],
      "text/plain": [
       "        version retention_1 retention_7\n",
       "count     90189       90189       90189\n",
       "unique        2           2           2\n",
       "top     gate_40       False       False\n",
       "freq      45489       50036       73408"
      ]
     },
     "metadata": {},
     "output_type": "display_data"
    }
   ],
   "source": [
    "display(ab_results[['sum_gamerounds']].describe())\n",
    "display(ab_results[['version', 'retention_1', 'retention_7']].describe())"
   ]
  },
  {
   "cell_type": "markdown",
   "id": "d5d7815e-3ac0-48fd-b816-e52bca3e6729",
   "metadata": {},
   "source": [
    "### Feature distributions"
   ]
  },
  {
   "cell_type": "markdown",
   "id": "760389c9-cee6-4232-91fc-e1e8036f4d57",
   "metadata": {},
   "source": [
    "**Categorical features**"
   ]
  },
  {
   "cell_type": "code",
   "execution_count": null,
   "id": "64b8ab9e-f288-42b9-83d0-fb415b86f720",
   "metadata": {},
   "outputs": [],
   "source": [
    "def summarise_data(df, column):\n",
    "    \"\"\"Outputs the value count for a given column in a dataframe.\"\"\"\n",
    "    summary = pd.DataFrame(\n",
    "        dict(count=df[column].value_counts(),\n",
    "             perc=round(df[column].value_counts(normalize=True)*100,1)\n",
    "            )\n",
    "    )\n",
    "    summary.loc['All'] = [df[column].value_counts().sum(), \n",
    "                          df[column].value_counts(normalize=True).sum()*100]\n",
    "\n",
    "    return summary"
   ]
  },
  {
   "cell_type": "code",
   "execution_count": 6,
   "id": "0231d26f-dea9-44ed-9eeb-cda6c2a4ccc4",
   "metadata": {},
   "outputs": [
    {
     "data": {
      "text/html": [
       "<div>\n",
       "<style scoped>\n",
       "    .dataframe tbody tr th:only-of-type {\n",
       "        vertical-align: middle;\n",
       "    }\n",
       "\n",
       "    .dataframe tbody tr th {\n",
       "        vertical-align: top;\n",
       "    }\n",
       "\n",
       "    .dataframe thead th {\n",
       "        text-align: right;\n",
       "    }\n",
       "</style>\n",
       "<table border=\"1\" class=\"dataframe\">\n",
       "  <thead>\n",
       "    <tr style=\"text-align: right;\">\n",
       "      <th></th>\n",
       "      <th>count</th>\n",
       "      <th>perc</th>\n",
       "    </tr>\n",
       "    <tr>\n",
       "      <th>version</th>\n",
       "      <th></th>\n",
       "      <th></th>\n",
       "    </tr>\n",
       "  </thead>\n",
       "  <tbody>\n",
       "    <tr>\n",
       "      <th>gate_40</th>\n",
       "      <td>45489.0</td>\n",
       "      <td>50.4</td>\n",
       "    </tr>\n",
       "    <tr>\n",
       "      <th>gate_30</th>\n",
       "      <td>44700.0</td>\n",
       "      <td>49.6</td>\n",
       "    </tr>\n",
       "    <tr>\n",
       "      <th>All</th>\n",
       "      <td>90189.0</td>\n",
       "      <td>100.0</td>\n",
       "    </tr>\n",
       "  </tbody>\n",
       "</table>\n",
       "</div>"
      ],
      "text/plain": [
       "           count   perc\n",
       "version                \n",
       "gate_40  45489.0   50.4\n",
       "gate_30  44700.0   49.6\n",
       "All      90189.0  100.0"
      ]
     },
     "metadata": {},
     "output_type": "display_data"
    },
    {
     "data": {
      "text/html": [
       "<div>\n",
       "<style scoped>\n",
       "    .dataframe tbody tr th:only-of-type {\n",
       "        vertical-align: middle;\n",
       "    }\n",
       "\n",
       "    .dataframe tbody tr th {\n",
       "        vertical-align: top;\n",
       "    }\n",
       "\n",
       "    .dataframe thead th {\n",
       "        text-align: right;\n",
       "    }\n",
       "</style>\n",
       "<table border=\"1\" class=\"dataframe\">\n",
       "  <thead>\n",
       "    <tr style=\"text-align: right;\">\n",
       "      <th></th>\n",
       "      <th>count</th>\n",
       "      <th>perc</th>\n",
       "    </tr>\n",
       "    <tr>\n",
       "      <th>retention_1</th>\n",
       "      <th></th>\n",
       "      <th></th>\n",
       "    </tr>\n",
       "  </thead>\n",
       "  <tbody>\n",
       "    <tr>\n",
       "      <th>False</th>\n",
       "      <td>50036.0</td>\n",
       "      <td>55.5</td>\n",
       "    </tr>\n",
       "    <tr>\n",
       "      <th>True</th>\n",
       "      <td>40153.0</td>\n",
       "      <td>44.5</td>\n",
       "    </tr>\n",
       "    <tr>\n",
       "      <th>All</th>\n",
       "      <td>90189.0</td>\n",
       "      <td>100.0</td>\n",
       "    </tr>\n",
       "  </tbody>\n",
       "</table>\n",
       "</div>"
      ],
      "text/plain": [
       "               count   perc\n",
       "retention_1                \n",
       "False        50036.0   55.5\n",
       "True         40153.0   44.5\n",
       "All          90189.0  100.0"
      ]
     },
     "metadata": {},
     "output_type": "display_data"
    },
    {
     "data": {
      "text/html": [
       "<div>\n",
       "<style scoped>\n",
       "    .dataframe tbody tr th:only-of-type {\n",
       "        vertical-align: middle;\n",
       "    }\n",
       "\n",
       "    .dataframe tbody tr th {\n",
       "        vertical-align: top;\n",
       "    }\n",
       "\n",
       "    .dataframe thead th {\n",
       "        text-align: right;\n",
       "    }\n",
       "</style>\n",
       "<table border=\"1\" class=\"dataframe\">\n",
       "  <thead>\n",
       "    <tr style=\"text-align: right;\">\n",
       "      <th></th>\n",
       "      <th>count</th>\n",
       "      <th>perc</th>\n",
       "    </tr>\n",
       "    <tr>\n",
       "      <th>retention_7</th>\n",
       "      <th></th>\n",
       "      <th></th>\n",
       "    </tr>\n",
       "  </thead>\n",
       "  <tbody>\n",
       "    <tr>\n",
       "      <th>False</th>\n",
       "      <td>73408.0</td>\n",
       "      <td>81.4</td>\n",
       "    </tr>\n",
       "    <tr>\n",
       "      <th>True</th>\n",
       "      <td>16781.0</td>\n",
       "      <td>18.6</td>\n",
       "    </tr>\n",
       "    <tr>\n",
       "      <th>All</th>\n",
       "      <td>90189.0</td>\n",
       "      <td>100.0</td>\n",
       "    </tr>\n",
       "  </tbody>\n",
       "</table>\n",
       "</div>"
      ],
      "text/plain": [
       "               count   perc\n",
       "retention_7                \n",
       "False        73408.0   81.4\n",
       "True         16781.0   18.6\n",
       "All          90189.0  100.0"
      ]
     },
     "metadata": {},
     "output_type": "display_data"
    },
    {
     "data": {
      "image/png": "[encoded data removed]",
      "text/plain": [
       "<Figure size 960x480 with 3 Axes>"
      ]
     },
     "metadata": {},
     "output_type": "display_data"
    }
   ],
   "source": [
    "cols = ['version', 'retention_1', 'retention_7']\n",
    "for col in cols:\n",
    "    display(summarise_data(ab_results, col))\n",
    "\n",
    "fig, axes = plt.subplots(nrows=1, ncols=len(cols), figsize= (6.4*len(cols)/2, 4.8))\n",
    "fig.tight_layout(pad=3.0)\n",
    "\n",
    "for ax, col in zip(axes, cols):\n",
    "    data = summarise_data(ab_results, col)\n",
    "    ax.scatter(data.loc[data.index != 'All'].index,\n",
    "               data.loc[data.index != 'All', 'perc'],\n",
    "               marker='x',\n",
    "               s=400,\n",
    "               c='black',\n",
    "               linewidths=2)\n",
    "    ax.set_xlim([-0.5, 1.5])\n",
    "    ax.set_ylim([round(min(data.loc[data.index != 'All', 'perc']) - 10, -1),\n",
    "                 round(max(data.loc[data.index != 'All', 'perc']) + 10, -1)])\n",
    "    ax.tick_params(bottom=False, left=False)\n",
    "    if 'retention' in col:\n",
    "        ax.set_xticks([0, 1], ['Not retained', 'Retained'])\n",
    "    else:\n",
    "        ax.set_xticks([0, 1], ['Gate 40', 'Gate 30'])\n",
    "    ax.grid(True, axis='y', color='gainsboro')\n",
    "    ax.spines[['top', 'right']].set_visible(False)\n",
    "    ax.spines[['left', 'bottom']].set_color('dimgray')\n",
    "    ax.set_title(col, fontsize=10, color='dimgray')\n",
    "    \n",
    "axes[0].set_ylabel('% of total', color='dimgray');"
   ]
  },
  {
   "cell_type": "markdown",
   "id": "e1dfdf7a-322b-47da-aec9-9614a610dab5",
   "metadata": {},
   "source": [
    "**Numerical features**"
   ]
  },
  {
   "cell_type": "code",
   "execution_count": 7,
   "id": "ef4c90b3-4d2c-4b77-bf45-fbd22a2cafbf",
   "metadata": {},
   "outputs": [
    {
     "data": {
      "image/png": "[encoded data removed]",
      "text/plain": [
       "<Figure size 640x480 with 2 Axes>"
      ]
     },
     "metadata": {},
     "output_type": "display_data"
    }
   ],
   "source": [
    "bin_width = 5\n",
    "fig, axes = plt.subplots(nrows=1, ncols=2)\n",
    "fig.tight_layout(pad=3.0)\n",
    "\n",
    "axes[0].hist(ab_results['sum_gamerounds'],\n",
    "             bins=range(0, ab_results['sum_gamerounds'].max() + bin_width, bin_width),\n",
    "             color = 'dimgray')   \n",
    "axes[1].hist(ab_results['sum_gamerounds'],\n",
    "             bins=range(0, ab_results['sum_gamerounds'].max() + bin_width, bin_width),\n",
    "             color = 'dimgray')\n",
    "axes[1].set_yscale('log')\n",
    "axes[1].set_xscale('log')\n",
    "axes[0].tick_params(left=False)\n",
    "axes[0].set_ylabel('Count', color='dimgray');\n",
    "for ax in axes:\n",
    "    ax.grid(True, axis='y', color='gainsboro')\n",
    "    ax.spines[['top', 'right']].set_visible(False)\n",
    "    ax.spines[['left', 'bottom']].set_color('dimgray')\n",
    "fig.suptitle('Histogram for sum game rounds', fontsize=10, color='dimgray');"
   ]
  },
  {
   "cell_type": "code",
   "execution_count": 8,
   "id": "3da1b50c-34d4-425e-a79f-2aabef5e5dd8",
   "metadata": {},
   "outputs": [
    {
     "data": {
      "image/png": "[encoded data removed]",
      "text/plain": [
       "<Figure size 640x480 with 2 Axes>"
      ]
     },
     "metadata": {},
     "output_type": "display_data"
    }
   ],
   "source": [
    "fig, axes = plt.subplots(nrows=1, ncols=2)\n",
    "fig.tight_layout(pad=3.0)\n",
    "\n",
    "axes[0].boxplot(ab_results['sum_gamerounds'], whis=[5, 95])\n",
    "axes[1].boxplot(ab_results['sum_gamerounds'], whis=[5, 95], showfliers=False)\n",
    "axes[0].set_title('With outliers', fontsize=10, color='dimgray')\n",
    "axes[0].set_ylabel('Sum game rounds', fontsize=10, color='dimgray')\n",
    "axes[1].set_title('Without outliers', fontsize=10, color='dimgray')\n",
    "for ax in axes:\n",
    "    ax.set_xticks([1], labels=[]);\n",
    "    ax.tick_params(bottom=False, left=False)\n",
    "    ax.grid(True, axis='y', color='gainsboro')\n",
    "    ax.spines[['top', 'right']].set_visible(False)\n",
    "    ax.spines[['left', 'bottom']].set_color('dimgray')"
   ]
  },
  {
   "cell_type": "markdown",
   "id": "9b0ed89f-3098-4242-a87a-8522b7433df9",
   "metadata": {},
   "source": [
    "### Feature relationships"
   ]
  },
  {
   "cell_type": "markdown",
   "id": "e07f817a-b065-4e48-9cc6-aa39a01beb96",
   "metadata": {},
   "source": [
    "#### Sum game rounds versus version"
   ]
  },
  {
   "cell_type": "code",
   "execution_count": 9,
   "id": "d561af72-37bc-45ca-811f-fa8d48b43388",
   "metadata": {},
   "outputs": [
    {
     "data": {
      "text/html": [
       "<div>\n",
       "<style scoped>\n",
       "    .dataframe tbody tr th:only-of-type {\n",
       "        vertical-align: middle;\n",
       "    }\n",
       "\n",
       "    .dataframe tbody tr th {\n",
       "        vertical-align: top;\n",
       "    }\n",
       "\n",
       "    .dataframe thead th {\n",
       "        text-align: right;\n",
       "    }\n",
       "</style>\n",
       "<table border=\"1\" class=\"dataframe\">\n",
       "  <thead>\n",
       "    <tr style=\"text-align: right;\">\n",
       "      <th></th>\n",
       "      <th>gate_30</th>\n",
       "      <th>gate_40</th>\n",
       "    </tr>\n",
       "  </thead>\n",
       "  <tbody>\n",
       "    <tr>\n",
       "      <th>count</th>\n",
       "      <td>44700.000000</td>\n",
       "      <td>45489.000000</td>\n",
       "    </tr>\n",
       "    <tr>\n",
       "      <th>mean</th>\n",
       "      <td>52.456264</td>\n",
       "      <td>51.298776</td>\n",
       "    </tr>\n",
       "    <tr>\n",
       "      <th>std</th>\n",
       "      <td>256.716423</td>\n",
       "      <td>103.294416</td>\n",
       "    </tr>\n",
       "    <tr>\n",
       "      <th>min</th>\n",
       "      <td>0.000000</td>\n",
       "      <td>0.000000</td>\n",
       "    </tr>\n",
       "    <tr>\n",
       "      <th>25%</th>\n",
       "      <td>5.000000</td>\n",
       "      <td>5.000000</td>\n",
       "    </tr>\n",
       "    <tr>\n",
       "      <th>50%</th>\n",
       "      <td>17.000000</td>\n",
       "      <td>16.000000</td>\n",
       "    </tr>\n",
       "    <tr>\n",
       "      <th>75%</th>\n",
       "      <td>50.000000</td>\n",
       "      <td>52.000000</td>\n",
       "    </tr>\n",
       "    <tr>\n",
       "      <th>max</th>\n",
       "      <td>49854.000000</td>\n",
       "      <td>2640.000000</td>\n",
       "    </tr>\n",
       "  </tbody>\n",
       "</table>\n",
       "</div>"
      ],
      "text/plain": [
       "            gate_30       gate_40\n",
       "count  44700.000000  45489.000000\n",
       "mean      52.456264     51.298776\n",
       "std      256.716423    103.294416\n",
       "min        0.000000      0.000000\n",
       "25%        5.000000      5.000000\n",
       "50%       17.000000     16.000000\n",
       "75%       50.000000     52.000000\n",
       "max    49854.000000   2640.000000"
      ]
     },
     "metadata": {},
     "output_type": "display_data"
    }
   ],
   "source": [
    "display(pd.concat([ab_results.loc[ab_results.version == v, 'sum_gamerounds'].describe() for v in ab_results['version'].unique()],\n",
    "                  axis=1,\n",
    "                  keys=[v for v in ab_results['version'].unique()]\n",
    "                 )\n",
    "       )"
   ]
  },
  {
   "cell_type": "code",
   "execution_count": 10,
   "id": "d208101d-6887-4718-a165-c1d6b3cd7beb",
   "metadata": {},
   "outputs": [
    {
     "data": {
      "image/png": "[encoded data removed]",
      "text/plain": [
       "<Figure size 640x480 with 2 Axes>"
      ]
     },
     "metadata": {},
     "output_type": "display_data"
    }
   ],
   "source": [
    "bin_width = 5\n",
    "fig, axes = plt.subplots(nrows=1, ncols=2)\n",
    "fig.tight_layout(pad=3.0)\n",
    "\n",
    "for v, ax in zip(ab_results['version'].unique(), axes):\n",
    "    ax.hist(ab_results.loc[ab_results.version == v, 'sum_gamerounds'],\n",
    "            bins=range(0, ab_results.loc[ab_results.version == v, 'sum_gamerounds'].max() + bin_width, bin_width),\n",
    "            color = 'dimgray')\n",
    "    ax.set_yscale('log')\n",
    "    ax.set_xscale('log')\n",
    "    ax.grid(True, axis='y', color='gainsboro')\n",
    "    ax.spines[['top', 'right']].set_visible(False)\n",
    "    ax.spines[['left', 'bottom']].set_color('dimgray')\n",
    "    ax.set_title(v, fontsize=10, color='dimgray')\n",
    "axes[0].set_ylabel('Count', color='dimgray');"
   ]
  },
  {
   "cell_type": "code",
   "execution_count": 11,
   "id": "cf5bbd24-4a83-4571-a88c-4c24e69a380a",
   "metadata": {},
   "outputs": [
    {
     "data": {
      "image/png": "[encoded data removed]",
      "text/plain": [
       "<Figure size 640x480 with 1 Axes>"
      ]
     },
     "metadata": {},
     "output_type": "display_data"
    }
   ],
   "source": [
    "fig, axes = plt.subplots(nrows=1, ncols=1)\n",
    "ab_results.boxplot(by='version',\n",
    "                   column='sum_gamerounds',\n",
    "                   ax=axes,\n",
    "                   whis=[5, 95],\n",
    "                   showfliers=False,\n",
    "                   boxprops=dict(color='k'),\n",
    "                   whiskerprops=dict(color='k'),\n",
    "                   capprops=dict(color='k')\n",
    "                   )\n",
    "axes.set_xticks([1, 2], labels=['Gate 30', 'Gate 40'])\n",
    "axes.set_xlabel('')\n",
    "axes.set_ylabel('Sum game rounds', fontsize=10, color='dimgray')\n",
    "axes.tick_params(bottom=False, left=False)\n",
    "axes.grid(False)\n",
    "axes.grid(True, axis='y', which='major', color='gainsboro')\n",
    "axes.spines[['top', 'right']].set_visible(False)\n",
    "axes.spines[['left', 'bottom']].set_color('dimgray')\n",
    "axes.set_title('')\n",
    "fig.suptitle('');"
   ]
  },
  {
   "cell_type": "markdown",
   "id": "49e5f97b-bd8e-4488-b62e-d8e5c8011e74",
   "metadata": {},
   "source": [
    "#### Retention versus version"
   ]
  },
  {
   "cell_type": "code",
   "execution_count": 12,
   "id": "ecbfca43-2b90-4061-8f29-e248820b03fb",
   "metadata": {},
   "outputs": [
    {
     "data": {
      "text/html": [
       "<div>\n",
       "<style scoped>\n",
       "    .dataframe tbody tr th:only-of-type {\n",
       "        vertical-align: middle;\n",
       "    }\n",
       "\n",
       "    .dataframe tbody tr th {\n",
       "        vertical-align: top;\n",
       "    }\n",
       "\n",
       "    .dataframe thead th {\n",
       "        text-align: right;\n",
       "    }\n",
       "</style>\n",
       "<table border=\"1\" class=\"dataframe\">\n",
       "  <thead>\n",
       "    <tr style=\"text-align: right;\">\n",
       "      <th></th>\n",
       "      <th>retention_1</th>\n",
       "      <th>retention_7</th>\n",
       "    </tr>\n",
       "    <tr>\n",
       "      <th>version</th>\n",
       "      <th></th>\n",
       "      <th></th>\n",
       "    </tr>\n",
       "  </thead>\n",
       "  <tbody>\n",
       "    <tr>\n",
       "      <th>gate_30</th>\n",
       "      <td>44.82</td>\n",
       "      <td>19.02</td>\n",
       "    </tr>\n",
       "    <tr>\n",
       "      <th>gate_40</th>\n",
       "      <td>44.23</td>\n",
       "      <td>18.20</td>\n",
       "    </tr>\n",
       "  </tbody>\n",
       "</table>\n",
       "</div>"
      ],
      "text/plain": [
       "         retention_1  retention_7\n",
       "version                          \n",
       "gate_30        44.82        19.02\n",
       "gate_40        44.23        18.20"
      ]
     },
     "execution_count": 12,
     "metadata": {},
     "output_type": "execute_result"
    }
   ],
   "source": [
    "def outcomes_func(x, measure):\n",
    "    \"\"\"Calculate retention outcome counts and percentages for a given measure. \n",
    "    Where x is the raw results DataFrame and measure is either retention_1 or retention_7\n",
    "    \"\"\"\n",
    "    df = x.groupby(by=['version', measure])['userid'].count().rename('count')\n",
    "    df.index = df.index.rename(['version', 'outcome'])\n",
    "    df = df.reset_index(level='outcome').join(\n",
    "        x.groupby(by=['version'])['userid'].count().rename('total'))\n",
    "    df['perc'] = round(df['count'] / df['total'] * 100, 2)\n",
    "    \n",
    "    df = df.set_index('outcome', append=True).drop('total', axis=1)\n",
    "    df.columns = pd.MultiIndex.from_product([[measure], df.columns])\n",
    "    return df\n",
    "\n",
    "retent_outcomes = outcomes_func(ab_results, 'retention_1').join(outcomes_func(ab_results, 'retention_7'))\n",
    "retent_outcomes.xs(True, level=1, axis=0).xs('perc', level=1, axis=1)"
   ]
  },
  {
   "cell_type": "code",
   "execution_count": 13,
   "id": "f7c90d8c-37ad-40d5-9096-665e5ed3ec5b",
   "metadata": {},
   "outputs": [
    {
     "data": {
      "image/png": "[encoded data removed]",
      "text/plain": [
       "<Figure size 640x480 with 2 Axes>"
      ]
     },
     "metadata": {},
     "output_type": "display_data"
    }
   ],
   "source": [
    "fig, axes = plt.subplots(nrows=1, ncols=2)\n",
    "\n",
    "for ax, measure in zip(axes, ['retention_1', 'retention_7']):\n",
    "    perc_view = retent_outcomes.xs(True, level=1, axis=0).xs('perc', level=1, axis=1)[measure]\n",
    "    ax.scatter(perc_view.index,\n",
    "               perc_view.values,\n",
    "               marker='x',\n",
    "               s=400,\n",
    "               c='black',\n",
    "               linewidths=2)\n",
    "    \n",
    "    ax.set_xlim([-0.5, 1.5])\n",
    "    ax.set_ylim(\n",
    "        [round(min(perc_view.values) - 10, -1),\n",
    "         round(max(perc_view.values) + 10, -1)])\n",
    "    ax.set_xticks([0, 1], ['Gate 30', 'Gate 40'])\n",
    "    ax.tick_params(bottom=False, left=False)\n",
    "    ax.grid(True, axis='y', color='gainsboro')\n",
    "    ax.spines[['top', 'right']].set_visible(False)\n",
    "    ax.spines[['left', 'bottom']].set_color('dimgray')\n",
    "    ax.set_title(measure, fontsize=10, color='dimgray')\n",
    "axes[0].set_ylabel('% of total', color='dimgray');"
   ]
  },
  {
   "cell_type": "markdown",
   "id": "0735e139-0920-4215-959a-c14bc2f80e1a",
   "metadata": {},
   "source": [
    "## Data cleaning"
   ]
  },
  {
   "cell_type": "code",
   "execution_count": 14,
   "id": "6e50a0c6-6d68-4ace-aaa9-4f7f84b18fd6",
   "metadata": {},
   "outputs": [],
   "source": [
    "ab_results = ab_results.loc[ab_results['sum_gamerounds'] != ab_results['sum_gamerounds'].max()]\n",
    "ab_results = ab_results.reset_index(drop=True)"
   ]
  },
  {
   "cell_type": "markdown",
   "id": "07283984-d3a8-4361-bf98-83b64a9cf116",
   "metadata": {},
   "source": [
    "## Permutation test"
   ]
  },
  {
   "cell_type": "code",
   "execution_count": 15,
   "id": "dde24a5f-7be9-441c-a3f6-b38732959fa1",
   "metadata": {},
   "outputs": [],
   "source": [
    "def perm_func(x, n_A, n_B):\n",
    "    \"\"\"Compute difference in means for \"\"\"\n",
    "    n = n_A + n_B\n",
    "    idx_A = set(sample(range(n), n_A))\n",
    "    idx_B = set(range(n)) - idx_A\n",
    "    return x.loc[list(idx_A)].mean() - x.loc[list(idx_B)].mean()"
   ]
  },
  {
   "cell_type": "markdown",
   "id": "31bf43ec-f7b4-43f2-a3c5-10c54df2ce05",
   "metadata": {},
   "source": [
    "### Game rounds played"
   ]
  },
  {
   "cell_type": "code",
   "execution_count": 16,
   "id": "25e18281-b42d-4569-b922-a4cfbe91d20a",
   "metadata": {},
   "outputs": [
    {
     "data": {
      "text/html": [
       "<div>\n",
       "<style scoped>\n",
       "    .dataframe tbody tr th:only-of-type {\n",
       "        vertical-align: middle;\n",
       "    }\n",
       "\n",
       "    .dataframe tbody tr th {\n",
       "        vertical-align: top;\n",
       "    }\n",
       "\n",
       "    .dataframe thead th {\n",
       "        text-align: right;\n",
       "    }\n",
       "</style>\n",
       "<table border=\"1\" class=\"dataframe\">\n",
       "  <thead>\n",
       "    <tr style=\"text-align: right;\">\n",
       "      <th></th>\n",
       "      <th>count</th>\n",
       "      <th>perc</th>\n",
       "    </tr>\n",
       "    <tr>\n",
       "      <th>version</th>\n",
       "      <th></th>\n",
       "      <th></th>\n",
       "    </tr>\n",
       "  </thead>\n",
       "  <tbody>\n",
       "    <tr>\n",
       "      <th>gate_40</th>\n",
       "      <td>45489.0</td>\n",
       "      <td>50.4</td>\n",
       "    </tr>\n",
       "    <tr>\n",
       "      <th>gate_30</th>\n",
       "      <td>44699.0</td>\n",
       "      <td>49.6</td>\n",
       "    </tr>\n",
       "    <tr>\n",
       "      <th>All</th>\n",
       "      <td>90188.0</td>\n",
       "      <td>100.0</td>\n",
       "    </tr>\n",
       "  </tbody>\n",
       "</table>\n",
       "</div>"
      ],
      "text/plain": [
       "           count   perc\n",
       "version                \n",
       "gate_40  45489.0   50.4\n",
       "gate_30  44699.0   49.6\n",
       "All      90188.0  100.0"
      ]
     },
     "metadata": {},
     "output_type": "display_data"
    }
   ],
   "source": [
    "display(summarise_data(ab_results, 'version'))"
   ]
  },
  {
   "cell_type": "code",
   "execution_count": 17,
   "id": "f8fb1eb0-e7e9-4bf3-a57b-0f29dde3c5af",
   "metadata": {},
   "outputs": [
    {
     "name": "stdout",
     "output_type": "stream",
     "text": [
      "Gate 30 mean: 51.342110561757536\n",
      "Gate 40 mean: 51.29877552814966\n",
      "Observed percentage difference: 0.04333503360787461\n"
     ]
    }
   ],
   "source": [
    "gate_30_mean = ab_results.loc[ab_results['version'] == 'gate_30', 'sum_gamerounds'].mean()\n",
    "gate_40_mean = ab_results.loc[ab_results['version'] == 'gate_40', 'sum_gamerounds'].mean()\n",
    "obs_pct_diff = gate_30_mean - gate_40_mean\n",
    "print(f'Gate 30 mean: {gate_30_mean}')\n",
    "print(f'Gate 40 mean: {gate_40_mean}')\n",
    "print(f'Observed percentage difference: {obs_pct_diff}')"
   ]
  },
  {
   "cell_type": "code",
   "execution_count": 18,
   "id": "f652d053-7035-4369-bced-f3f12096ba57",
   "metadata": {},
   "outputs": [
    {
     "data": {
      "image/png": "[encoded data removed]",
      "text/plain": [
       "<Figure size 640x480 with 1 Axes>"
      ]
     },
     "metadata": {},
     "output_type": "display_data"
    }
   ],
   "source": [
    "perm_diffs = [perm_func(ab_results['sum_gamerounds'], 44699, 45489) for _ in range(1000)]\n",
    "\n",
    "fig, axes = plt.subplots()\n",
    "axes.hist(perm_diffs, bins=20, color = 'dimgray', ec=\"white\", lw=1)\n",
    "axes.axvline(x=obs_pct_diff, linestyle='--', color='red', lw=2, label='Observed\\ndifference')\n",
    "\n",
    "axes.set_xlabel('Difference in avg number of game rounds', color='dimgray');\n",
    "axes.set_ylabel('Count', color='dimgray');\n",
    "axes.set_title('Game rounds', fontsize=10, color='dimgray');\n",
    "axes.spines[['top', 'right']].set_visible(False);\n",
    "axes.spines[['left', 'bottom']].set_color('dimgray');\n",
    "axes.legend();"
   ]
  },
  {
   "cell_type": "code",
   "execution_count": 19,
   "id": "cde8823f-cc05-4e81-88a9-53d4b162dee9",
   "metadata": {},
   "outputs": [
    {
     "name": "stdout",
     "output_type": "stream",
     "text": [
      "p-Value: 0.498\n"
     ]
    }
   ],
   "source": [
    "p_val = np.mean([diff > obs_pct_diff for diff in perm_diffs])\n",
    "print(f'p-Value: {p_val}')"
   ]
  },
  {
   "cell_type": "markdown",
   "id": "6b56e04b-496e-4238-9766-a57f14b124ff",
   "metadata": {},
   "source": [
    "### 1 day retention"
   ]
  },
  {
   "cell_type": "code",
   "execution_count": 20,
   "id": "48cf8f97-281c-427b-b521-514e5cfc67be",
   "metadata": {},
   "outputs": [
    {
     "data": {
      "text/html": [
       "<div>\n",
       "<style scoped>\n",
       "    .dataframe tbody tr th:only-of-type {\n",
       "        vertical-align: middle;\n",
       "    }\n",
       "\n",
       "    .dataframe tbody tr th {\n",
       "        vertical-align: top;\n",
       "    }\n",
       "\n",
       "    .dataframe thead th {\n",
       "        text-align: right;\n",
       "    }\n",
       "</style>\n",
       "<table border=\"1\" class=\"dataframe\">\n",
       "  <thead>\n",
       "    <tr style=\"text-align: right;\">\n",
       "      <th></th>\n",
       "      <th></th>\n",
       "      <th>count</th>\n",
       "      <th>perc</th>\n",
       "    </tr>\n",
       "    <tr>\n",
       "      <th>version</th>\n",
       "      <th>outcome</th>\n",
       "      <th></th>\n",
       "      <th></th>\n",
       "    </tr>\n",
       "  </thead>\n",
       "  <tbody>\n",
       "    <tr>\n",
       "      <th rowspan=\"2\" valign=\"top\">gate_30</th>\n",
       "      <th>False</th>\n",
       "      <td>24665</td>\n",
       "      <td>55.18</td>\n",
       "    </tr>\n",
       "    <tr>\n",
       "      <th>True</th>\n",
       "      <td>20034</td>\n",
       "      <td>44.82</td>\n",
       "    </tr>\n",
       "    <tr>\n",
       "      <th rowspan=\"2\" valign=\"top\">gate_40</th>\n",
       "      <th>False</th>\n",
       "      <td>25370</td>\n",
       "      <td>55.77</td>\n",
       "    </tr>\n",
       "    <tr>\n",
       "      <th>True</th>\n",
       "      <td>20119</td>\n",
       "      <td>44.23</td>\n",
       "    </tr>\n",
       "  </tbody>\n",
       "</table>\n",
       "</div>"
      ],
      "text/plain": [
       "                 count   perc\n",
       "version outcome              \n",
       "gate_30 False    24665  55.18\n",
       "        True     20034  44.82\n",
       "gate_40 False    25370  55.77\n",
       "        True     20119  44.23"
      ]
     },
     "execution_count": 20,
     "metadata": {},
     "output_type": "execute_result"
    }
   ],
   "source": [
    "retent_outcomes = outcomes_func(ab_results, 'retention_1').join(outcomes_func(ab_results, 'retention_7'))\n",
    "retent_outcomes.xs('retention_1', level=0, axis=1)"
   ]
  },
  {
   "cell_type": "code",
   "execution_count": 21,
   "id": "6ae39967-b159-48a9-a4a7-10f337120183",
   "metadata": {},
   "outputs": [
    {
     "name": "stdout",
     "output_type": "stream",
     "text": [
      "Observed percentage difference: 0.5900000000000034\n"
     ]
    }
   ],
   "source": [
    "obs_pct_diff = 44.82 - 44.23\n",
    "print(f'Observed percentage difference: {obs_pct_diff}')"
   ]
  },
  {
   "cell_type": "code",
   "execution_count": 22,
   "id": "c095104b-1a5d-482d-bb5a-9b000ee5f5b4",
   "metadata": {},
   "outputs": [
    {
     "data": {
      "image/png": "[encoded data removed]",
      "text/plain": [
       "<Figure size 640x480 with 1 Axes>"
      ]
     },
     "metadata": {},
     "output_type": "display_data"
    }
   ],
   "source": [
    "not_retained = [0] * (24665 + 25370)\n",
    "retained = [1] * (20034 + 20119)\n",
    "perm_diffs = [100 * perm_func(pd.Series(not_retained + retained), 44699, 45489) for _ in range(1000)]\n",
    "\n",
    "fig, axes = plt.subplots()\n",
    "axes.hist(perm_diffs, bins=20, color = \"dimgray\", ec=\"white\", lw=1)\n",
    "axes.axvline(x=obs_pct_diff, linestyle='--', color='red', lw=2, label='Observed\\ndifference')\n",
    "\n",
    "axes.set_xlabel('Difference in retention rate', color='dimgray');\n",
    "axes.set_ylabel('Count', color='dimgray');\n",
    "axes.set_title('One day retention', fontsize=10, color='dimgray');\n",
    "axes.spines[['top', 'right']].set_visible(False);\n",
    "axes.spines[['left', 'bottom']].set_color('dimgray');\n",
    "axes.legend();"
   ]
  },
  {
   "cell_type": "code",
   "execution_count": 23,
   "id": "850e4a64-c942-442c-836e-168fcc6d613c",
   "metadata": {},
   "outputs": [
    {
     "name": "stdout",
     "output_type": "stream",
     "text": [
      "p-Value: 0.031\n"
     ]
    }
   ],
   "source": [
    "p_val = np.mean([diff > obs_pct_diff for diff in perm_diffs])\n",
    "print(f'p-Value: {p_val}')"
   ]
  },
  {
   "cell_type": "markdown",
   "id": "860d373c-11e8-447e-af25-ba20948bfd1b",
   "metadata": {},
   "source": [
    "### 7 day retention"
   ]
  },
  {
   "cell_type": "code",
   "execution_count": 24,
   "id": "7aa9f154-dee9-448c-9e0e-118a441e800d",
   "metadata": {},
   "outputs": [
    {
     "data": {
      "text/html": [
       "<div>\n",
       "<style scoped>\n",
       "    .dataframe tbody tr th:only-of-type {\n",
       "        vertical-align: middle;\n",
       "    }\n",
       "\n",
       "    .dataframe tbody tr th {\n",
       "        vertical-align: top;\n",
       "    }\n",
       "\n",
       "    .dataframe thead th {\n",
       "        text-align: right;\n",
       "    }\n",
       "</style>\n",
       "<table border=\"1\" class=\"dataframe\">\n",
       "  <thead>\n",
       "    <tr style=\"text-align: right;\">\n",
       "      <th></th>\n",
       "      <th></th>\n",
       "      <th>count</th>\n",
       "      <th>perc</th>\n",
       "    </tr>\n",
       "    <tr>\n",
       "      <th>version</th>\n",
       "      <th>outcome</th>\n",
       "      <th></th>\n",
       "      <th></th>\n",
       "    </tr>\n",
       "  </thead>\n",
       "  <tbody>\n",
       "    <tr>\n",
       "      <th rowspan=\"2\" valign=\"top\">gate_30</th>\n",
       "      <th>False</th>\n",
       "      <td>36198</td>\n",
       "      <td>80.98</td>\n",
       "    </tr>\n",
       "    <tr>\n",
       "      <th>True</th>\n",
       "      <td>8501</td>\n",
       "      <td>19.02</td>\n",
       "    </tr>\n",
       "    <tr>\n",
       "      <th rowspan=\"2\" valign=\"top\">gate_40</th>\n",
       "      <th>False</th>\n",
       "      <td>37210</td>\n",
       "      <td>81.80</td>\n",
       "    </tr>\n",
       "    <tr>\n",
       "      <th>True</th>\n",
       "      <td>8279</td>\n",
       "      <td>18.20</td>\n",
       "    </tr>\n",
       "  </tbody>\n",
       "</table>\n",
       "</div>"
      ],
      "text/plain": [
       "                 count   perc\n",
       "version outcome              \n",
       "gate_30 False    36198  80.98\n",
       "        True      8501  19.02\n",
       "gate_40 False    37210  81.80\n",
       "        True      8279  18.20"
      ]
     },
     "execution_count": 24,
     "metadata": {},
     "output_type": "execute_result"
    }
   ],
   "source": [
    "retent_outcomes = outcomes_func(ab_results, 'retention_1').join(outcomes_func(ab_results, 'retention_7'))\n",
    "retent_outcomes.xs('retention_7', level=0, axis=1)"
   ]
  },
  {
   "cell_type": "code",
   "execution_count": 25,
   "id": "32e1923c-6da4-4cd7-87bd-5196cd2add2c",
   "metadata": {},
   "outputs": [
    {
     "name": "stdout",
     "output_type": "stream",
     "text": [
      "Observed percentage difference: 0.8200000000000003\n"
     ]
    }
   ],
   "source": [
    "obs_pct_diff = 19.02 - 18.20\n",
    "print(f'Observed percentage difference: {obs_pct_diff}')"
   ]
  },
  {
   "cell_type": "code",
   "execution_count": 26,
   "id": "ebe5bf3d-6678-41f7-b9bd-b658d704cd35",
   "metadata": {},
   "outputs": [
    {
     "data": {
      "image/png": "[encoded data removed]",
      "text/plain": [
       "<Figure size 640x480 with 1 Axes>"
      ]
     },
     "metadata": {},
     "output_type": "display_data"
    }
   ],
   "source": [
    "not_retained = [0] * (36198 + 37210)\n",
    "retained = [1] * (8501 + 8279)\n",
    "perm_diffs = [100 * perm_func(pd.Series(not_retained + retained), 44699, 45489) for _ in range(1000)]\n",
    "\n",
    "fig, axes = plt.subplots()\n",
    "axes.hist(perm_diffs, bins=20, color = \"dimgray\", ec=\"white\", lw=1)\n",
    "axes.axvline(x=obs_pct_diff, linestyle='--', color='red', lw=2, label='Observed\\ndifference')\n",
    "\n",
    "axes.set_xlabel('Difference in retention rate', color='dimgray');\n",
    "axes.set_ylabel('Count', color='dimgray');\n",
    "axes.set_title('Seven day retention', fontsize=10, color='dimgray');\n",
    "axes.spines[['top', 'right']].set_visible(False);\n",
    "axes.spines[['left', 'bottom']].set_color('dimgray');\n",
    "axes.legend();"
   ]
  },
  {
   "cell_type": "code",
   "execution_count": 27,
   "id": "162ae01e-7761-4864-834f-aa5ff19a319c",
   "metadata": {},
   "outputs": [
    {
     "name": "stdout",
     "output_type": "stream",
     "text": [
      "p-Value: 0.001\n"
     ]
    }
   ],
   "source": [
    "p_val = np.mean([diff > obs_pct_diff for diff in perm_diffs])\n",
    "print(f'p-Value: {p_val}')"
   ]
  },
  {
   "cell_type": "markdown",
   "id": "09a8e9a2-325d-4dd8-9297-2f79811aebf8",
   "metadata": {},
   "source": [
    "## Conclusion"
   ]
  }
 ],
 "metadata": {
  "kernelspec": {
   "display_name": "ab_testing",
   "language": "python",
   "name": "ab_testing"
  },
  "language_info": {
   "codemirror_mode": {
    "name": "ipython",
    "version": 3
   },
   "file_extension": ".py",
   "mimetype": "text/x-python",
   "name": "python",
   "nbconvert_exporter": "python",
   "pygments_lexer": "ipython3",
   "version": "3.11.5"
  }
 },
 "nbformat": 4,
 "nbformat_minor": 5
}
